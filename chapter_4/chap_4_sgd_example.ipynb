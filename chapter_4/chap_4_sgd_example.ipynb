{
  "nbformat": 4,
  "nbformat_minor": 0,
  "metadata": {
    "colab": {
      "name": "chap_4_sgd_example.ipynb",
      "provenance": [],
      "collapsed_sections": [],
      "machine_shape": "hm",
      "authorship_tag": "ABX9TyN26W6xbGMn5rI2cyQv9xSF",
      "include_colab_link": true
    },
    "kernelspec": {
      "name": "python3",
      "display_name": "Python 3"
    },
    "language_info": {
      "name": "python"
    },
    "accelerator": "GPU"
  },
  "cells": [
    {
      "cell_type": "markdown",
      "metadata": {
        "id": "view-in-github",
        "colab_type": "text"
      },
      "source": [
        "<a href=\"https://colab.research.google.com/github/RaviChandraVeeramachaneni/fastbook_myexperiments/blob/main/chapter_4/chap_4_sgd_example.ipynb\" target=\"_parent\"><img src=\"https://colab.research.google.com/assets/colab-badge.svg\" alt=\"Open In Colab\"/></a>"
      ]
    },
    {
      "cell_type": "code",
      "metadata": {
        "colab": {
          "base_uri": "https://localhost:8080/"
        },
        "id": "pbQI8S7aEvQ1",
        "outputId": "3e15d29e-0ed8-482d-9aec-2f2848400cf7"
      },
      "source": [
        "!pip install -Uqq fastbook\n",
        "import fastbook\n",
        "fastbook.setup_book()"
      ],
      "execution_count": 1,
      "outputs": [
        {
          "output_type": "stream",
          "text": [
            "\u001b[K     |████████████████████████████████| 727kB 4.3MB/s \n",
            "\u001b[K     |████████████████████████████████| 194kB 18.2MB/s \n",
            "\u001b[K     |████████████████████████████████| 51kB 7.6MB/s \n",
            "\u001b[K     |████████████████████████████████| 1.2MB 18.6MB/s \n",
            "\u001b[K     |████████████████████████████████| 61kB 8.3MB/s \n",
            "\u001b[K     |████████████████████████████████| 61kB 9.6MB/s \n",
            "\u001b[?25hMounted at /content/gdrive\n"
          ],
          "name": "stdout"
        }
      ]
    },
    {
      "cell_type": "code",
      "metadata": {
        "id": "ttiXQssNFDR8"
      },
      "source": [
        "from fastai.vision.all import *\n",
        "from fastbook import *\n",
        "\n",
        "matplotlib.rc('image', cmap='Greys')"
      ],
      "execution_count": 2,
      "outputs": []
    },
    {
      "cell_type": "markdown",
      "metadata": {
        "id": "Od5YpMlyFEZb"
      },
      "source": [
        "### End-to-End example of a Roller Coaster"
      ]
    },
    {
      "cell_type": "markdown",
      "metadata": {
        "id": "6X_RibVIKX_o"
      },
      "source": [
        "#### Calculating the speed for every 20s"
      ]
    },
    {
      "cell_type": "code",
      "metadata": {
        "colab": {
          "base_uri": "https://localhost:8080/"
        },
        "id": "ddAS16DtKP-J",
        "outputId": "aa7f5177-fc1b-428f-f0c8-f65f4228513b"
      },
      "source": [
        "time = torch.arange(0,20).float(); time"
      ],
      "execution_count": 3,
      "outputs": [
        {
          "output_type": "execute_result",
          "data": {
            "text/plain": [
              "tensor([ 0.,  1.,  2.,  3.,  4.,  5.,  6.,  7.,  8.,  9., 10., 11., 12., 13., 14., 15., 16., 17., 18., 19.])"
            ]
          },
          "metadata": {
            "tags": []
          },
          "execution_count": 3
        }
      ]
    },
    {
      "cell_type": "code",
      "metadata": {
        "colab": {
          "base_uri": "https://localhost:8080/",
          "height": 265
        },
        "id": "vIiyPBvzKsSB",
        "outputId": "d22c1b90-1152-4671-df48-b3f3b4203949"
      },
      "source": [
        "speed = torch.randn(20)*3 + 0.75*(time-9.5)**2 + 1\n",
        "plt.scatter(time,speed);"
      ],
      "execution_count": 4,
      "outputs": [
        {
          "output_type": "display_data",
          "data": {
            "image/png": "[encoded data removed]",
            "text/plain": [
              "<Figure size 432x288 with 1 Axes>"
            ]
          },
          "metadata": {
            "tags": [],
            "needs_background": "light"
          }
        }
      ]
    },
    {
      "cell_type": "markdown",
      "metadata": {
        "id": "RXMahK6_K9ba"
      },
      "source": [
        "#### Considering a sample quadratic function \n",
        "    - a*(time**2)+(b*time)+c"
      ]
    },
    {
      "cell_type": "code",
      "metadata": {
        "id": "c9bcDvNlLF4L"
      },
      "source": [
        "def f(t, params):\n",
        "    a,b,c = params\n",
        "    return a*(t**2) + (b*t) + c  "
      ],
      "execution_count": 5,
      "outputs": []
    },
    {
      "cell_type": "markdown",
      "metadata": {
        "id": "mi7QOYvgZ0uH"
      },
      "source": [
        "#### Defining a loss function\n",
        "    - Lower the function value, better will the be the model prediction"
      ]
    },
    {
      "cell_type": "code",
      "metadata": {
        "id": "JONtf-YAaDZ2"
      },
      "source": [
        "def mse(preds, targets):\n",
        "    return ((preds-targets)**2).sqrt().mean()"
      ],
      "execution_count": 6,
      "outputs": []
    },
    {
      "cell_type": "markdown",
      "metadata": {
        "id": "NO2vXZ2Daim4"
      },
      "source": [
        "#### Step 1: Initilaizing the paramters to random values and tracking gradients using requires_grad_() function"
      ]
    },
    {
      "cell_type": "code",
      "metadata": {
        "id": "RrfutUKyao_e"
      },
      "source": [
        "params = torch.randn(3).requires_grad_()\n",
        "orig_params = params.clone()"
      ],
      "execution_count": 7,
      "outputs": []
    },
    {
      "cell_type": "markdown",
      "metadata": {
        "id": "VY-yk-lpbSVm"
      },
      "source": [
        "#### Step 2: Calculating the predictions\n"
      ]
    },
    {
      "cell_type": "code",
      "metadata": {
        "id": "9fORQhNibWhg"
      },
      "source": [
        "preds = f(time, params)"
      ],
      "execution_count": 8,
      "outputs": []
    },
    {
      "cell_type": "markdown",
      "metadata": {
        "id": "4Yd_70GIb1uQ"
      },
      "source": [
        "#### Function to see how close our predictions are to our targets"
      ]
    },
    {
      "cell_type": "code",
      "metadata": {
        "id": "rDa6Vspab4gb"
      },
      "source": [
        "def show_preds(preds, ax=None):\n",
        "    if ax is None: ax=plt.subplots()[1]\n",
        "    ax.scatter(time, speed)\n",
        "    ax.scatter(time, to_np(preds), color='red')\n",
        "    ax.set_ylim(-300,100)"
      ],
      "execution_count": 9,
      "outputs": []
    },
    {
      "cell_type": "code",
      "metadata": {
        "colab": {
          "base_uri": "https://localhost:8080/",
          "height": 269
        },
        "id": "Qv7US34Fb_cv",
        "outputId": "614e94ae-968e-4758-bad1-28852ba362b2"
      },
      "source": [
        "show_preds(preds)"
      ],
      "execution_count": 10,
      "outputs": [
        {
          "output_type": "display_data",
          "data": {
            "image/png": "[encoded data removed]",
            "text/plain": [
              "<Figure size 432x288 with 1 Axes>"
            ]
          },
          "metadata": {
            "tags": [],
            "needs_background": "light"
          }
        }
      ]
    },
    {
      "cell_type": "markdown",
      "metadata": {
        "id": "s7OQ6hMecudA"
      },
      "source": [
        "#### Step 3: Calculating the loss"
      ]
    },
    {
      "cell_type": "code",
      "metadata": {
        "colab": {
          "base_uri": "https://localhost:8080/"
        },
        "id": "9JHgqS87cwM-",
        "outputId": "870c6b68-8e7a-49fe-d6b2-93a54ded41e2"
      },
      "source": [
        "loss = mse(preds, speed)\n",
        "loss"
      ],
      "execution_count": 11,
      "outputs": [
        {
          "output_type": "execute_result",
          "data": {
            "text/plain": [
              "tensor(126.9454, grad_fn=<MeanBackward0>)"
            ]
          },
          "metadata": {
            "tags": []
          },
          "execution_count": 11
        }
      ]
    },
    {
      "cell_type": "markdown",
      "metadata": {
        "id": "oyS1ptgvc7g-"
      },
      "source": [
        "Let's minimize the above using the gradients"
      ]
    },
    {
      "cell_type": "markdown",
      "metadata": {
        "id": "GVCrN45OdF60"
      },
      "source": [
        "#### Step 4: Calculating the gradients"
      ]
    },
    {
      "cell_type": "code",
      "metadata": {
        "colab": {
          "base_uri": "https://localhost:8080/"
        },
        "id": "wS4RHbtJdmnW",
        "outputId": "16d00f0f-fedc-4757-b5c4-2bdce45b5463"
      },
      "source": [
        "loss.backward()\n",
        "params.grad"
      ],
      "execution_count": 12,
      "outputs": [
        {
          "output_type": "execute_result",
          "data": {
            "text/plain": [
              "tensor([-123.5000,   -9.5000,   -1.0000])"
            ]
          },
          "metadata": {
            "tags": []
          },
          "execution_count": 12
        }
      ]
    },
    {
      "cell_type": "markdown",
      "metadata": {
        "id": "LP2ORErwi3pe"
      },
      "source": [
        "Picking a learning rate of 0.00001 and multiplying that with gradient"
      ]
    },
    {
      "cell_type": "code",
      "metadata": {
        "colab": {
          "base_uri": "https://localhost:8080/"
        },
        "id": "lGX-9QKpdxpa",
        "outputId": "70b4c434-f120-4902-f652-2e862107a72c"
      },
      "source": [
        "params.grad * 1e-5"
      ],
      "execution_count": 13,
      "outputs": [
        {
          "output_type": "execute_result",
          "data": {
            "text/plain": [
              "tensor([-1.2350e-03, -9.5000e-05, -1.0000e-05])"
            ]
          },
          "metadata": {
            "tags": []
          },
          "execution_count": 13
        }
      ]
    },
    {
      "cell_type": "code",
      "metadata": {
        "colab": {
          "base_uri": "https://localhost:8080/"
        },
        "id": "-_u0gs_-jK_h",
        "outputId": "f709c7a8-f6c1-4991-a3db-d61e71b315a9"
      },
      "source": [
        "params"
      ],
      "execution_count": 14,
      "outputs": [
        {
          "output_type": "execute_result",
          "data": {
            "text/plain": [
              "tensor([-0.7658, -0.7506,  1.3525], requires_grad=True)"
            ]
          },
          "metadata": {
            "tags": []
          },
          "execution_count": 14
        }
      ]
    },
    {
      "cell_type": "markdown",
      "metadata": {
        "id": "o0Cp-oQTjSQl"
      },
      "source": [
        "#### Step 5: Step the weights"
      ]
    },
    {
      "cell_type": "markdown",
      "metadata": {
        "id": "nKa7Kx4tji6e"
      },
      "source": [
        "Updating the parameters based on the gradients we just calculated"
      ]
    },
    {
      "cell_type": "code",
      "metadata": {
        "id": "w7IBjpmvjf8t"
      },
      "source": [
        "lr = 1e-5\n",
        "params.data -= lr * params.grad.data\n",
        "params.grad = None"
      ],
      "execution_count": 15,
      "outputs": []
    },
    {
      "cell_type": "markdown",
      "metadata": {
        "id": "CcI9IpBNrmq8"
      },
      "source": [
        "#### Checking if the loss has improved"
      ]
    },
    {
      "cell_type": "code",
      "metadata": {
        "colab": {
          "base_uri": "https://localhost:8080/"
        },
        "id": "cKKysf15rpq5",
        "outputId": "d1225075-11aa-4bee-a250-78fc7472bd5b"
      },
      "source": [
        "preds = f(time,params)\n",
        "mse(preds, speed)"
      ],
      "execution_count": 16,
      "outputs": [
        {
          "output_type": "execute_result",
          "data": {
            "text/plain": [
              "tensor(126.7920, grad_fn=<MeanBackward0>)"
            ]
          },
          "metadata": {
            "tags": []
          },
          "execution_count": 16
        }
      ]
    },
    {
      "cell_type": "markdown",
      "metadata": {
        "id": "171iMpcQrz21"
      },
      "source": [
        "Plotting the graph"
      ]
    },
    {
      "cell_type": "code",
      "metadata": {
        "colab": {
          "base_uri": "https://localhost:8080/",
          "height": 269
        },
        "id": "Fo-VLzShrxaW",
        "outputId": "28d722da-5d97-4c6b-a3ab-97eaf915d102"
      },
      "source": [
        "show_preds(preds)"
      ],
      "execution_count": 17,
      "outputs": [
        {
          "output_type": "display_data",
          "data": {
            "image/png": "[encoded data removed]",
            "text/plain": [
              "<Figure size 432x288 with 1 Axes>"
            ]
          },
          "metadata": {
            "tags": [],
            "needs_background": "light"
          }
        }
      ]
    },
    {
      "cell_type": "code",
      "metadata": {
        "id": "EedjO-bGr-MR"
      },
      "source": [
        "def apply_step(params, prn=True):\n",
        "    preds = f(time, params)\n",
        "    loss = mse(preds, speed)\n",
        "    loss.backward()\n",
        "    params.data -= lr * params.grad.data\n",
        "    params.grad = None\n",
        "    if prn: print(loss.item())\n",
        "    return preds"
      ],
      "execution_count": 18,
      "outputs": []
    },
    {
      "cell_type": "code",
      "metadata": {
        "colab": {
          "base_uri": "https://localhost:8080/"
        },
        "id": "LRepbfotsC2s",
        "outputId": "06998bda-de0c-42df-c3a4-6f1fd170e138"
      },
      "source": [
        "for i in range(10): apply_step(params)"
      ],
      "execution_count": 19,
      "outputs": [
        {
          "output_type": "stream",
          "text": [
            "126.7919692993164\n",
            "126.63853454589844\n",
            "126.48509216308594\n",
            "126.3316650390625\n",
            "126.17823791503906\n",
            "126.02479553222656\n",
            "125.8713607788086\n",
            "125.7179183959961\n",
            "125.56449127197266\n",
            "125.41104888916016\n"
          ],
          "name": "stdout"
        }
      ]
    },
    {
      "cell_type": "code",
      "metadata": {
        "id": "e7BTNsn8sF5m"
      },
      "source": [
        "params = orig_params.detach().requires_grad_()"
      ],
      "execution_count": 20,
      "outputs": []
    },
    {
      "cell_type": "code",
      "metadata": {
        "colab": {
          "base_uri": "https://localhost:8080/",
          "height": 225
        },
        "id": "7hi_QV97sJrB",
        "outputId": "ad8aa203-16aa-42f3-fb94-1b520452ddde"
      },
      "source": [
        "_,axs = plt.subplots(1,4,figsize=(12,3))\n",
        "for ax in axs: show_preds(apply_step(params, False), ax)\n",
        "plt.tight_layout()"
      ],
      "execution_count": 21,
      "outputs": [
        {
          "output_type": "display_data",
          "data": {
            "image/png": "[encoded data removed]",
            "text/plain": [
              "<Figure size 864x216 with 4 Axes>"
            ]
          },
          "metadata": {
            "tags": [],
            "needs_background": "light"
          }
        }
      ]
    },
    {
      "cell_type": "markdown",
      "metadata": {
        "id": "xhaJxCDuvpw6"
      },
      "source": [
        "At this point we can when to stop after looking at training, validation looses & metrics."
      ]
    }
  ]
}