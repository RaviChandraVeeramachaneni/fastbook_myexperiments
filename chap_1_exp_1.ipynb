{
  "nbformat": 4,
  "nbformat_minor": 0,
  "metadata": {
    "accelerator": "GPU",
    "colab": {
      "name": "chap_1_exp_1.ipynb",
      "provenance": [],
      "collapsed_sections": [],
      "machine_shape": "hm",
      "authorship_tag": "ABX9TyOcDXVleI7U8fDi8kYPfLc7",
      "include_colab_link": true
    },
    "kernelspec": {
      "display_name": "Python 3",
      "name": "python3"
    },
    "language_info": {
      "name": "python"
    },
    "widgets": {
      "application/vnd.jupyter.widget-state+json": {
        "6569f27f99604849a909a61ceba5709c": {
          "model_module": "@jupyter-widgets/controls",
          "model_name": "FileUploadModel",
          "state": {
            "_view_name": "FileUploadView",
            "_counter": 1,
            "style": "IPY_MODEL_ea249ed4c409403da4e7580033cc3507",
            "_dom_classes": [],
            "description": "Upload",
            "multiple": false,
            "_model_name": "FileUploadModel",
            "data": [
              null
            ],
            "button_style": "",
            "_view_module": "@jupyter-widgets/controls",
            "_model_module_version": "1.5.0",
            "accept": "",
            "_view_count": null,
            "disabled": false,
            "_view_module_version": "1.5.0",
            "error": "",
            "description_tooltip": null,
            "metadata": [
              {
                "name": "dog.jpeg",
                "type": "image/jpeg",
                "size": 6988,
                "lastModified": 1624918908703
              }
            ],
            "_model_module": "@jupyter-widgets/controls",
            "layout": "IPY_MODEL_8f10fb9fdbc44e04a2a59137314f87f4",
            "icon": "upload"
          }
        },
        "ea249ed4c409403da4e7580033cc3507": {
          "model_module": "@jupyter-widgets/controls",
          "model_name": "ButtonStyleModel",
          "state": {
            "_view_name": "StyleView",
            "_model_name": "ButtonStyleModel",
            "_view_module": "@jupyter-widgets/base",
            "_model_module_version": "1.5.0",
            "_view_count": null,
            "button_color": null,
            "font_weight": "",
            "_view_module_version": "1.2.0",
            "_model_module": "@jupyter-widgets/controls"
          }
        },
        "8f10fb9fdbc44e04a2a59137314f87f4": {
          "model_module": "@jupyter-widgets/base",
          "model_name": "LayoutModel",
          "state": {
            "_view_name": "LayoutView",
            "grid_template_rows": null,
            "right": null,
            "justify_content": null,
            "_view_module": "@jupyter-widgets/base",
            "overflow": null,
            "_model_module_version": "1.2.0",
            "_view_count": null,
            "flex_flow": null,
            "width": null,
            "min_width": null,
            "border": null,
            "align_items": null,
            "bottom": null,
            "_model_module": "@jupyter-widgets/base",
            "top": null,
            "grid_column": null,
            "overflow_y": null,
            "overflow_x": null,
            "grid_auto_flow": null,
            "grid_area": null,
            "grid_template_columns": null,
            "flex": null,
            "_model_name": "LayoutModel",
            "justify_items": null,
            "grid_row": null,
            "max_height": null,
            "align_content": null,
            "visibility": null,
            "align_self": null,
            "height": null,
            "min_height": null,
            "padding": null,
            "grid_auto_rows": null,
            "grid_gap": null,
            "max_width": null,
            "order": null,
            "_view_module_version": "1.2.0",
            "grid_template_areas": null,
            "object_position": null,
            "object_fit": null,
            "grid_auto_columns": null,
            "margin": null,
            "display": null,
            "left": null
          }
        }
      }
    }
  },
  "cells": [
    {
      "cell_type": "markdown",
      "metadata": {
        "id": "view-in-github",
        "colab_type": "text"
      },
      "source": [
        "<a href=\"https://colab.research.google.com/github/RaviChandraVeeramachaneni/fastbook_myexperiments/blob/main/chap_1_exp_1.ipynb\" target=\"_parent\"><img src=\"https://colab.research.google.com/assets/colab-badge.svg\" alt=\"Open In Colab\"/></a>"
      ]
    },
    {
      "cell_type": "markdown",
      "metadata": {
        "id": "Gq16eezYoVr6"
      },
      "source": [
        "## Check which GPU is allocated to you by google colab"
      ]
    },
    {
      "cell_type": "code",
      "metadata": {
        "colab": {
          "base_uri": "https://localhost:8080/"
        },
        "id": "4XVwNzuwDROG",
        "outputId": "ff9d7c4e-71c7-412e-b948-b09f05fa47f4"
      },
      "source": [
        "gpu_info = !nvidia-smi\n",
        "gpu_info = '\\n'.join(gpu_info)\n",
        "if gpu_info.find('failed') >= 0:\n",
        "  print('Select the Runtime > \"Change runtime type\" menu to enable a GPU accelerator, ')\n",
        "  print('and then re-execute this cell.')\n",
        "else:\n",
        "  print(gpu_info)"
      ],
      "execution_count": 20,
      "outputs": [
        {
          "output_type": "stream",
          "text": [
            "Mon Jun 28 20:59:18 2021       \n",
            "+-----------------------------------------------------------------------------+\n",
            "| NVIDIA-SMI 465.27       Driver Version: 460.32.03    CUDA Version: 11.2     |\n",
            "|-------------------------------+----------------------+----------------------+\n",
            "| GPU  Name        Persistence-M| Bus-Id        Disp.A | Volatile Uncorr. ECC |\n",
            "| Fan  Temp  Perf  Pwr:Usage/Cap|         Memory-Usage | GPU-Util  Compute M. |\n",
            "|                               |                      |               MIG M. |\n",
            "|===============================+======================+======================|\n",
            "|   0  Tesla P100-PCIE...  Off  | 00000000:00:04.0 Off |                    0 |\n",
            "| N/A   40C    P0    34W / 250W |   4249MiB / 16280MiB |      0%      Default |\n",
            "|                               |                      |                  N/A |\n",
            "+-------------------------------+----------------------+----------------------+\n",
            "                                                                               \n",
            "+-----------------------------------------------------------------------------+\n",
            "| Processes:                                                                  |\n",
            "|  GPU   GI   CI        PID   Type   Process name                  GPU Memory |\n",
            "|        ID   ID                                                   Usage      |\n",
            "|=============================================================================|\n",
            "+-----------------------------------------------------------------------------+\n"
          ],
          "name": "stdout"
        }
      ]
    },
    {
      "cell_type": "markdown",
      "metadata": {
        "id": "ibDFyLG9okFL"
      },
      "source": [
        "## Check how much RAM is allocated by the google colab"
      ]
    },
    {
      "cell_type": "code",
      "metadata": {
        "colab": {
          "base_uri": "https://localhost:8080/"
        },
        "id": "uIxLw_tNFqCB",
        "outputId": "edf5e361-7403-479f-8381-4b7aa8f41f59"
      },
      "source": [
        "from psutil import virtual_memory\n",
        "ram_gb = virtual_memory().total / 1e9\n",
        "print('Your runtime has {:.1f} gigabytes of available RAM\\n'.format(ram_gb))\n",
        "\n",
        "if ram_gb < 20:\n",
        "  print('To enable a high-RAM runtime, select the Runtime > \"Change runtime type\"')\n",
        "  print('menu, and then select High-RAM in the Runtime shape dropdown. Then, ')\n",
        "  print('re-execute this cell.')\n",
        "else:\n",
        "  print('You are using a high-RAM runtime!')"
      ],
      "execution_count": 21,
      "outputs": [
        {
          "output_type": "stream",
          "text": [
            "Your runtime has 27.3 gigabytes of available RAM\n",
            "\n",
            "You are using a high-RAM runtime!\n"
          ],
          "name": "stdout"
        }
      ]
    },
    {
      "cell_type": "markdown",
      "metadata": {
        "id": "Gygeo6wbork4"
      },
      "source": [
        "## Install the fastbook"
      ]
    },
    {
      "cell_type": "code",
      "metadata": {
        "colab": {
          "base_uri": "https://localhost:8080/"
        },
        "id": "lkUiVaYOlo7g",
        "outputId": "e5cfd93f-ece9-40b9-e5a3-f2bb43985a0b"
      },
      "source": [
        "!pip install -Uqq fastbook"
      ],
      "execution_count": null,
      "outputs": [
        {
          "output_type": "stream",
          "text": [
            "\u001b[K     |████████████████████████████████| 727kB 4.2MB/s \n",
            "\u001b[K     |████████████████████████████████| 1.2MB 8.5MB/s \n",
            "\u001b[K     |████████████████████████████████| 194kB 18.5MB/s \n",
            "\u001b[K     |████████████████████████████████| 51kB 7.5MB/s \n",
            "\u001b[K     |████████████████████████████████| 61kB 8.6MB/s \n",
            "\u001b[K     |████████████████████████████████| 61kB 8.0MB/s \n",
            "\u001b[?25h"
          ],
          "name": "stdout"
        }
      ]
    },
    {
      "cell_type": "markdown",
      "metadata": {
        "id": "f3lgFBTJoyed"
      },
      "source": [
        "## Setting up the fastbook"
      ]
    },
    {
      "cell_type": "code",
      "metadata": {
        "colab": {
          "base_uri": "https://localhost:8080/"
        },
        "id": "qKgiylq1Mj9c",
        "outputId": "946940b7-d000-491d-ee9b-f38faf31ca65"
      },
      "source": [
        "import fastbook\n",
        "fastbook.setup_book()"
      ],
      "execution_count": null,
      "outputs": [
        {
          "output_type": "stream",
          "text": [
            "Mounted at /content/gdrive\n"
          ],
          "name": "stdout"
        }
      ]
    },
    {
      "cell_type": "markdown",
      "metadata": {
        "id": "zXldumoNo4b4"
      },
      "source": [
        "## Import everything from fastbook for learning\n"
      ]
    },
    {
      "cell_type": "code",
      "metadata": {
        "id": "8QpaM7G9NkGG"
      },
      "source": [
        "from fastbook import *"
      ],
      "execution_count": null,
      "outputs": []
    },
    {
      "cell_type": "markdown",
      "metadata": {
        "id": "c1pYrc-Qo-tc"
      },
      "source": [
        "## Import all the needed Vision realted library from fastAI"
      ]
    },
    {
      "cell_type": "code",
      "metadata": {
        "id": "4-iSmOZIN9pn"
      },
      "source": [
        "from fastai.vision.all import *"
      ],
      "execution_count": null,
      "outputs": []
    },
    {
      "cell_type": "markdown",
      "metadata": {
        "id": "JWUfdftypULw"
      },
      "source": [
        "## Download, extract the PETS data"
      ]
    },
    {
      "cell_type": "code",
      "metadata": {
        "colab": {
          "base_uri": "https://localhost:8080/"
        },
        "id": "LE7HFkuAOCJo",
        "outputId": "06ea6c2a-ce08-4cad-ca19-f6b64c8140e7"
      },
      "source": [
        "path = untar_data(URLs.PETS)/'images'\n",
        "path"
      ],
      "execution_count": 32,
      "outputs": [
        {
          "output_type": "execute_result",
          "data": {
            "text/plain": [
              "Path('/root/.fastai/data/oxford-iiit-pet/images')"
            ]
          },
          "metadata": {
            "tags": []
          },
          "execution_count": 32
        }
      ]
    },
    {
      "cell_type": "markdown",
      "metadata": {
        "id": "cCcOa6ytphhZ"
      },
      "source": [
        "#### A boolean function needed to return YES/No whether the starting letter of the name of the Image starts with Uppercase or lowercase"
      ]
    },
    {
      "cell_type": "code",
      "metadata": {
        "id": "G_ETCi_mOmFr"
      },
      "source": [
        "def is_cat(x):\n",
        "    return x[0].isupper()"
      ],
      "execution_count": 8,
      "outputs": []
    },
    {
      "cell_type": "markdown",
      "metadata": {
        "id": "_JOv8YnXp-8V"
      },
      "source": [
        "### Creating a DataLoader object while passing\n",
        "    - path: dataset Path class Object which is a link to the   dowladed data set\n",
        "    - get_image_files(path): gets the images from that path\n",
        "    - valid_pct(<num>): The percentage of data to be divided to the validation set from the original dataset.\n",
        "    - seed: A random number to divide the dataset exactly the same everytime we run the training\n",
        "    - label_func: Takes a function external/inline to classify the image based on the Starting letter of the Image Name\n",
        "    - item_tfms: Takes and Resize object to resize all images to same size"
      ]
    },
    {
      "cell_type": "code",
      "metadata": {
        "id": "US74O4AROxxH",
        "colab": {
          "base_uri": "https://localhost:8080/"
        },
        "outputId": "7e246a42-f2bf-4fc9-d526-93e0e9a959d0"
      },
      "source": [
        "dls = ImageDataLoaders.from_name_func(path, get_image_files(path), valid_pct=0.2, seed=42, label_func=is_cat, item_tfms=Resize(224))\n",
        "dls"
      ],
      "execution_count": 34,
      "outputs": [
        {
          "output_type": "execute_result",
          "data": {
            "text/plain": [
              "<fastai.data.core.DataLoaders at 0x7fa02e2a6a50>"
            ]
          },
          "metadata": {
            "tags": []
          },
          "execution_count": 34
        }
      ]
    },
    {
      "cell_type": "markdown",
      "metadata": {
        "id": "VtaLBSSWrj8X"
      },
      "source": [
        "## Creating a Learner Object which is a Convolutional Network and holds which cnn algorithm to use for the training\n",
        "### Learner Object:\n",
        "    - dls: dataloader object\n",
        "    - arch: Algorithm used for training\n",
        "    - metrics: whihc metrics to used for training for us to understand.\n",
        "### fine_tune(<num_of_epochs>): Number of times to go through the whole image data set once.\n",
        "\n",
        "Note: A Epoch is one cycle when the training has been done on all images."
      ]
    },
    {
      "cell_type": "code",
      "metadata": {
        "colab": {
          "base_uri": "https://localhost:8080/",
          "height": 422
        },
        "id": "ZZDuPksUV7Ky",
        "outputId": "7efa6bce-2315-4424-c455-8f704544c39d"
      },
      "source": [
        "learn = cnn_learner(dls, arch=resnet34, metrics=error_rate)\n",
        "learn.fine_tune(10)"
      ],
      "execution_count": 28,
      "outputs": [
        {
          "output_type": "display_data",
          "data": {
            "text/html": [
              "<table border=\"1\" class=\"dataframe\">\n",
              "  <thead>\n",
              "    <tr style=\"text-align: left;\">\n",
              "      <th>epoch</th>\n",
              "      <th>train_loss</th>\n",
              "      <th>valid_loss</th>\n",
              "      <th>error_rate</th>\n",
              "      <th>time</th>\n",
              "    </tr>\n",
              "  </thead>\n",
              "  <tbody>\n",
              "    <tr>\n",
              "      <td>0</td>\n",
              "      <td>0.137895</td>\n",
              "      <td>0.017491</td>\n",
              "      <td>0.005413</td>\n",
              "      <td>00:24</td>\n",
              "    </tr>\n",
              "  </tbody>\n",
              "</table>"
            ],
            "text/plain": [
              "<IPython.core.display.HTML object>"
            ]
          },
          "metadata": {
            "tags": []
          }
        },
        {
          "output_type": "display_data",
          "data": {
            "text/html": [
              "<table border=\"1\" class=\"dataframe\">\n",
              "  <thead>\n",
              "    <tr style=\"text-align: left;\">\n",
              "      <th>epoch</th>\n",
              "      <th>train_loss</th>\n",
              "      <th>valid_loss</th>\n",
              "      <th>error_rate</th>\n",
              "      <th>time</th>\n",
              "    </tr>\n",
              "  </thead>\n",
              "  <tbody>\n",
              "    <tr>\n",
              "      <td>0</td>\n",
              "      <td>0.039172</td>\n",
              "      <td>0.012185</td>\n",
              "      <td>0.006089</td>\n",
              "      <td>00:31</td>\n",
              "    </tr>\n",
              "    <tr>\n",
              "      <td>1</td>\n",
              "      <td>0.040219</td>\n",
              "      <td>0.040615</td>\n",
              "      <td>0.010825</td>\n",
              "      <td>00:31</td>\n",
              "    </tr>\n",
              "    <tr>\n",
              "      <td>2</td>\n",
              "      <td>0.033585</td>\n",
              "      <td>0.030381</td>\n",
              "      <td>0.006766</td>\n",
              "      <td>00:31</td>\n",
              "    </tr>\n",
              "    <tr>\n",
              "      <td>3</td>\n",
              "      <td>0.025333</td>\n",
              "      <td>0.045053</td>\n",
              "      <td>0.014208</td>\n",
              "      <td>00:31</td>\n",
              "    </tr>\n",
              "    <tr>\n",
              "      <td>4</td>\n",
              "      <td>0.022407</td>\n",
              "      <td>0.014818</td>\n",
              "      <td>0.004736</td>\n",
              "      <td>00:31</td>\n",
              "    </tr>\n",
              "    <tr>\n",
              "      <td>5</td>\n",
              "      <td>0.018075</td>\n",
              "      <td>0.013688</td>\n",
              "      <td>0.005413</td>\n",
              "      <td>00:31</td>\n",
              "    </tr>\n",
              "    <tr>\n",
              "      <td>6</td>\n",
              "      <td>0.011473</td>\n",
              "      <td>0.008942</td>\n",
              "      <td>0.002030</td>\n",
              "      <td>00:31</td>\n",
              "    </tr>\n",
              "    <tr>\n",
              "      <td>7</td>\n",
              "      <td>0.005589</td>\n",
              "      <td>0.011308</td>\n",
              "      <td>0.002030</td>\n",
              "      <td>00:31</td>\n",
              "    </tr>\n",
              "    <tr>\n",
              "      <td>8</td>\n",
              "      <td>0.002431</td>\n",
              "      <td>0.008008</td>\n",
              "      <td>0.002706</td>\n",
              "      <td>00:31</td>\n",
              "    </tr>\n",
              "    <tr>\n",
              "      <td>9</td>\n",
              "      <td>0.002753</td>\n",
              "      <td>0.008438</td>\n",
              "      <td>0.002706</td>\n",
              "      <td>00:31</td>\n",
              "    </tr>\n",
              "  </tbody>\n",
              "</table>"
            ],
            "text/plain": [
              "<IPython.core.display.HTML object>"
            ]
          },
          "metadata": {
            "tags": []
          }
        }
      ]
    },
    {
      "cell_type": "markdown",
      "metadata": {
        "id": "j7L1v_BXssu3"
      },
      "source": [
        "## Testing Phase\n",
        "### Create a Widget uploader to uplaod an image of dog/cat."
      ]
    },
    {
      "cell_type": "code",
      "metadata": {
        "id": "gagG9NEqV-ax",
        "colab": {
          "base_uri": "https://localhost:8080/",
          "height": 49,
          "referenced_widgets": [
            "6569f27f99604849a909a61ceba5709c",
            "ea249ed4c409403da4e7580033cc3507",
            "8f10fb9fdbc44e04a2a59137314f87f4"
          ]
        },
        "outputId": "3c7e2946-ec80-4f19-a7f1-4a58ddbf6472"
      },
      "source": [
        "uploader = widgets.FileUpload()\n",
        "uploader"
      ],
      "execution_count": 36,
      "outputs": [
        {
          "output_type": "display_data",
          "data": {
            "application/vnd.jupyter.widget-view+json": {
              "model_id": "6569f27f99604849a909a61ceba5709c",
              "version_minor": 0,
              "version_major": 2
            },
            "text/plain": [
              "FileUpload(value={}, description='Upload')"
            ]
          },
          "metadata": {
            "tags": []
          }
        }
      ]
    },
    {
      "cell_type": "markdown",
      "metadata": {
        "id": "UL_suH-_y1pD"
      },
      "source": [
        "## Create an Image object out of the uploaded Image"
      ]
    },
    {
      "cell_type": "code",
      "metadata": {
        "colab": {
          "base_uri": "https://localhost:8080/",
          "height": 200
        },
        "id": "Yok8-mYntz0r",
        "outputId": "d72897e8-b9b2-4b38-fdc4-25d335982bef"
      },
      "source": [
        "img = PILImage.create(uploader.data[0])\n",
        "img"
      ],
      "execution_count": 55,
      "outputs": [
        {
          "output_type": "execute_result",
          "data": {
            "image/png": "[encoded data removed]",
            "text/plain": [
              "PILImage mode=RGB size=275x183"
            ]
          },
          "metadata": {
            "tags": []
          },
          "execution_count": 55
        }
      ]
    },
    {
      "cell_type": "markdown",
      "metadata": {
        "id": "V-6FSAIEzMlM"
      },
      "source": [
        "## Predicting a Dog/Cat"
      ]
    },
    {
      "cell_type": "code",
      "metadata": {
        "id": "1lyGzIDkzaC7"
      },
      "source": [
        "?learn.predict"
      ],
      "execution_count": 57,
      "outputs": []
    },
    {
      "cell_type": "code",
      "metadata": {
        "colab": {
          "base_uri": "https://localhost:8080/",
          "height": 68
        },
        "id": "jB_8t3gKuFyA",
        "outputId": "8390b0b2-5d0d-45c7-9dfe-7b3b0c7db4da"
      },
      "source": [
        "is_cat,_,probs = learn.predict(img)\n",
        "print(f\"Is this a cat?: {is_cat}.\")\n",
        "print(f\"The Probability that it's a cat: {probs[1].item():.6f}\")\n",
        "print(f\"The Probability that it's not a cat: { 1 - probs[1].item():.6f}\")"
      ],
      "execution_count": 54,
      "outputs": [
        {
          "output_type": "display_data",
          "data": {
            "text/html": [
              ""
            ],
            "text/plain": [
              "<IPython.core.display.HTML object>"
            ]
          },
          "metadata": {
            "tags": []
          }
        },
        {
          "output_type": "stream",
          "text": [
            "Is this a cat?: False.\n",
            "The Probability that it's a cat: 0.000013\n",
            "The Probability that it's not a cat: 0.999987\n"
          ],
          "name": "stdout"
        }
      ]
    }
  ]
}