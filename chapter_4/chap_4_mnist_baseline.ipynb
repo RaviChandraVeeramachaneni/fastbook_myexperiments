{
  "nbformat": 4,
  "nbformat_minor": 0,
  "metadata": {
    "colab": {
      "name": "chap_4_mnist_baseline.ipynb",
      "provenance": [],
      "collapsed_sections": [],
      "machine_shape": "hm",
      "authorship_tag": "ABX9TyPfDNJhlDVx7pnViPxvu3aZ",
      "include_colab_link": true
    },
    "kernelspec": {
      "name": "python3",
      "display_name": "Python 3"
    },
    "language_info": {
      "name": "python"
    },
    "accelerator": "GPU"
  },
  "cells": [
    {
      "cell_type": "markdown",
      "metadata": {
        "id": "view-in-github",
        "colab_type": "text"
      },
      "source": [
        "<a href=\"https://colab.research.google.com/github/RaviChandraVeeramachaneni/fastbook_myexperiments/blob/main/chapter_4/chap_4_mnist_baseline.ipynb\" target=\"_parent\"><img src=\"https://colab.research.google.com/assets/colab-badge.svg\" alt=\"Open In Colab\"/></a>"
      ]
    },
    {
      "cell_type": "code",
      "metadata": {
        "colab": {
          "base_uri": "https://localhost:8080/"
        },
        "id": "HiQJgMJJaz7D",
        "outputId": "6f389707-126c-4747-a88f-156cba70ea28"
      },
      "source": [
        "gpu_info = !nvidia-smi\n",
        "gpu_info = '\\n'.join(gpu_info)\n",
        "if gpu_info.find('failed') >= 0:\n",
        "  print('Select the Runtime > \"Change runtime type\" menu to enable a GPU accelerator, ')\n",
        "  print('and then re-execute this cell.')\n",
        "else:\n",
        "  print(gpu_info)"
      ],
      "execution_count": 2,
      "outputs": [
        {
          "output_type": "stream",
          "text": [
            "Wed Jul  7 07:50:04 2021       \n",
            "+-----------------------------------------------------------------------------+\n",
            "| NVIDIA-SMI 465.27       Driver Version: 460.32.03    CUDA Version: 11.2     |\n",
            "|-------------------------------+----------------------+----------------------+\n",
            "| GPU  Name        Persistence-M| Bus-Id        Disp.A | Volatile Uncorr. ECC |\n",
            "| Fan  Temp  Perf  Pwr:Usage/Cap|         Memory-Usage | GPU-Util  Compute M. |\n",
            "|                               |                      |               MIG M. |\n",
            "|===============================+======================+======================|\n",
            "|   0  Tesla P100-PCIE...  Off  | 00000000:00:04.0 Off |                    0 |\n",
            "| N/A   37C    P0    26W / 250W |      0MiB / 16280MiB |      0%      Default |\n",
            "|                               |                      |                  N/A |\n",
            "+-------------------------------+----------------------+----------------------+\n",
            "                                                                               \n",
            "+-----------------------------------------------------------------------------+\n",
            "| Processes:                                                                  |\n",
            "|  GPU   GI   CI        PID   Type   Process name                  GPU Memory |\n",
            "|        ID   ID                                                   Usage      |\n",
            "|=============================================================================|\n",
            "|  No running processes found                                                 |\n",
            "+-----------------------------------------------------------------------------+\n"
          ],
          "name": "stdout"
        }
      ]
    },
    {
      "cell_type": "code",
      "metadata": {
        "colab": {
          "base_uri": "https://localhost:8080/"
        },
        "id": "u8BvJSEZbDyN",
        "outputId": "da6e2221-4022-4214-c012-8526b1fb0493"
      },
      "source": [
        "from psutil import virtual_memory\n",
        "ram_gb = virtual_memory().total / 1e9\n",
        "print('Your runtime has {:.1f} gigabytes of available RAM\\n'.format(ram_gb))\n",
        "\n",
        "if ram_gb < 20:\n",
        "  print('To enable a high-RAM runtime, select the Runtime > \"Change runtime type\"')\n",
        "  print('menu, and then select High-RAM in the Runtime shape dropdown. Then, ')\n",
        "  print('re-execute this cell.')\n",
        "else:\n",
        "  print('You are using a high-RAM runtime!')"
      ],
      "execution_count": 3,
      "outputs": [
        {
          "output_type": "stream",
          "text": [
            "Your runtime has 27.3 gigabytes of available RAM\n",
            "\n",
            "You are using a high-RAM runtime!\n"
          ],
          "name": "stdout"
        }
      ]
    },
    {
      "cell_type": "code",
      "metadata": {
        "id": "M6t0u8lnzsJE",
        "colab": {
          "base_uri": "https://localhost:8080/"
        },
        "outputId": "889f7891-ddbc-4e92-da9a-a7e63596370e"
      },
      "source": [
        "!pip install -Uqq fastbook\n",
        "import fastbook\n",
        "fastbook.setup_book()"
      ],
      "execution_count": 4,
      "outputs": [
        {
          "output_type": "stream",
          "text": [
            "\u001b[K     |████████████████████████████████| 727kB 5.1MB/s \n",
            "\u001b[K     |████████████████████████████████| 1.2MB 56.0MB/s \n",
            "\u001b[K     |████████████████████████████████| 51kB 8.8MB/s \n",
            "\u001b[K     |████████████████████████████████| 194kB 65.5MB/s \n",
            "\u001b[K     |████████████████████████████████| 61kB 10.6MB/s \n",
            "\u001b[K     |████████████████████████████████| 61kB 10.7MB/s \n",
            "\u001b[?25hMounted at /content/gdrive\n"
          ],
          "name": "stdout"
        }
      ]
    },
    {
      "cell_type": "code",
      "metadata": {
        "id": "ikgUXsmK1270"
      },
      "source": [
        "from fastai.vision.all import *\n",
        "from fastbook import *\n",
        "\n",
        "matplotlib.rc('image', cmap='Greys')"
      ],
      "execution_count": 5,
      "outputs": []
    },
    {
      "cell_type": "markdown",
      "metadata": {
        "id": "bUiwwzmTf5Fv"
      },
      "source": [
        "### Downloading the MNIST Dataset"
      ]
    },
    {
      "cell_type": "code",
      "metadata": {
        "id": "z6e-y9qacX7V",
        "colab": {
          "base_uri": "https://localhost:8080/",
          "height": 34
        },
        "outputId": "56ce8661-d227-4a9c-f02c-822baef1d3d7"
      },
      "source": [
        "path = untar_data(URLs.MNIST_SAMPLE)\n",
        "path"
      ],
      "execution_count": 6,
      "outputs": [
        {
          "output_type": "display_data",
          "data": {
            "text/html": [
              ""
            ],
            "text/plain": [
              "<IPython.core.display.HTML object>"
            ]
          },
          "metadata": {
            "tags": []
          }
        },
        {
          "output_type": "execute_result",
          "data": {
            "text/plain": [
              "Path('/root/.fastai/data/mnist_sample')"
            ]
          },
          "metadata": {
            "tags": []
          },
          "execution_count": 6
        }
      ]
    },
    {
      "cell_type": "code",
      "metadata": {
        "id": "UJEy-XGL4zHu"
      },
      "source": [
        "Path.BASE_PATH = path"
      ],
      "execution_count": 7,
      "outputs": []
    },
    {
      "cell_type": "markdown",
      "metadata": {
        "id": "QDsARsBqzOgf"
      },
      "source": [
        "### View the list of downloaded files using ls() from fastai lib"
      ]
    },
    {
      "cell_type": "code",
      "metadata": {
        "id": "bpyDZdF3zXLM",
        "colab": {
          "base_uri": "https://localhost:8080/"
        },
        "outputId": "77f6cee2-90ac-4365-c74e-1f76f3c1e93b"
      },
      "source": [
        "path.ls()"
      ],
      "execution_count": 8,
      "outputs": [
        {
          "output_type": "execute_result",
          "data": {
            "text/plain": [
              "(#3) [Path('valid'),Path('labels.csv'),Path('train')]"
            ]
          },
          "metadata": {
            "tags": []
          },
          "execution_count": 8
        }
      ]
    },
    {
      "cell_type": "markdown",
      "metadata": {
        "id": "dYkDa4kH4nOT"
      },
      "source": [
        "### What's inside a Train set"
      ]
    },
    {
      "cell_type": "code",
      "metadata": {
        "colab": {
          "base_uri": "https://localhost:8080/"
        },
        "id": "Q2CbiD9q4uXz",
        "outputId": "5c3e5080-b94b-4205-970c-4e6f6a3f61a1"
      },
      "source": [
        "(path/'train').ls()"
      ],
      "execution_count": 9,
      "outputs": [
        {
          "output_type": "execute_result",
          "data": {
            "text/plain": [
              "(#2) [Path('train/3'),Path('train/7')]"
            ]
          },
          "metadata": {
            "tags": []
          },
          "execution_count": 9
        }
      ]
    },
    {
      "cell_type": "markdown",
      "metadata": {
        "id": "deBbClub5pS4"
      },
      "source": [
        "#### *Check Step: 2 cells: Checking the dataset whether we have everything right for 2 folders 3's & 7's - Not necessary for the actual baseline.*"
      ]
    },
    {
      "cell_type": "code",
      "metadata": {
        "colab": {
          "base_uri": "https://localhost:8080/"
        },
        "id": "0VlGKVzG55eY",
        "outputId": "77b0bb62-fea9-4c52-8d56-c15edfc41554"
      },
      "source": [
        "threes = (path/'train'/'3').ls().sorted()\n",
        "threes"
      ],
      "execution_count": 10,
      "outputs": [
        {
          "output_type": "execute_result",
          "data": {
            "text/plain": [
              "(#6131) [Path('train/3/10.png'),Path('train/3/10000.png'),Path('train/3/10011.png'),Path('train/3/10031.png'),Path('train/3/10034.png'),Path('train/3/10042.png'),Path('train/3/10052.png'),Path('train/3/1007.png'),Path('train/3/10074.png'),Path('train/3/10091.png')...]"
            ]
          },
          "metadata": {
            "tags": []
          },
          "execution_count": 10
        }
      ]
    },
    {
      "cell_type": "code",
      "metadata": {
        "colab": {
          "base_uri": "https://localhost:8080/"
        },
        "id": "IkPOcTXG7k4u",
        "outputId": "d0e9b698-71e0-4def-e3bc-2fc0658aeb15"
      },
      "source": [
        "sevens = (path/'train'/'7').ls().sorted()\n",
        "sevens"
      ],
      "execution_count": 11,
      "outputs": [
        {
          "output_type": "execute_result",
          "data": {
            "text/plain": [
              "(#6265) [Path('train/7/10002.png'),Path('train/7/1001.png'),Path('train/7/10014.png'),Path('train/7/10019.png'),Path('train/7/10039.png'),Path('train/7/10046.png'),Path('train/7/10050.png'),Path('train/7/10063.png'),Path('train/7/10077.png'),Path('train/7/10086.png')...]"
            ]
          },
          "metadata": {
            "tags": []
          },
          "execution_count": 11
        }
      ]
    },
    {
      "cell_type": "markdown",
      "metadata": {
        "id": "7i_zRHJk7yQV"
      },
      "source": [
        "### Checking an image: 2 cells: 3 & 7 "
      ]
    },
    {
      "cell_type": "code",
      "metadata": {
        "colab": {
          "base_uri": "https://localhost:8080/",
          "height": 45
        },
        "id": "Eyq7Mr0572W_",
        "outputId": "42bc99e2-e851-4de1-d90a-a48a0e135d5d"
      },
      "source": [
        "img3_path = threes[1]\n",
        "img3 = Image.open(img3_path)\n",
        "img3"
      ],
      "execution_count": 12,
      "outputs": [
        {
          "output_type": "execute_result",
          "data": {
            "image/png": "[encoded data removed]",
            "text/plain": [
              "<PIL.PngImagePlugin.PngImageFile image mode=L size=28x28 at 0x7F6CCE351850>"
            ]
          },
          "metadata": {
            "tags": []
          },
          "execution_count": 12
        }
      ]
    },
    {
      "cell_type": "code",
      "metadata": {
        "colab": {
          "base_uri": "https://localhost:8080/",
          "height": 45
        },
        "id": "zgtwO8ky8E34",
        "outputId": "7ca463d7-fcca-46b6-bd2b-1e93b2005527"
      },
      "source": [
        "img7_path = sevens[5]\n",
        "img7 = Image.open(img7_path)\n",
        "img7"
      ],
      "execution_count": 13,
      "outputs": [
        {
          "output_type": "execute_result",
          "data": {
            "image/png": "[encoded data removed]",
            "text/plain": [
              "<PIL.PngImagePlugin.PngImageFile image mode=L size=28x28 at 0x7F6CD29622D0>"
            ]
          },
          "metadata": {
            "tags": []
          },
          "execution_count": 13
        }
      ]
    },
    {
      "cell_type": "code",
      "metadata": {
        "colab": {
          "base_uri": "https://localhost:8080/"
        },
        "id": "GlefXYq59Gb2",
        "outputId": "0fb1c198-2e13-4793-bd57-84fad54c09b6"
      },
      "source": [
        "type(img7)"
      ],
      "execution_count": 14,
      "outputs": [
        {
          "output_type": "execute_result",
          "data": {
            "text/plain": [
              "PIL.PngImagePlugin.PngImageFile"
            ]
          },
          "metadata": {
            "tags": []
          },
          "execution_count": 14
        }
      ]
    },
    {
      "cell_type": "markdown",
      "metadata": {
        "id": "kbmMtP2B9v5k"
      },
      "source": [
        "#### Image under the hood in a computer. \n",
        "    - Represting the image in a Numpy array in the form of rows & cols\n",
        "\n"
      ]
    },
    {
      "cell_type": "code",
      "metadata": {
        "colab": {
          "base_uri": "https://localhost:8080/"
        },
        "id": "Mkr1VbBg93GV",
        "outputId": "4c411a81-a42a-41ab-8d48-98bb1a6b1c77"
      },
      "source": [
        "array(img3)[4:10, 4:10]"
      ],
      "execution_count": 15,
      "outputs": [
        {
          "output_type": "execute_result",
          "data": {
            "text/plain": [
              "array([[  0,   0,   0,   0,   0,   0],\n",
              "       [  0,   0,   0,   0,   0,  29],\n",
              "       [  0,   0,   0,  48, 166, 224],\n",
              "       [  0,  93, 244, 249, 253, 187],\n",
              "       [  0, 107, 253, 253, 230,  48],\n",
              "       [  0,   3,  20,  20,  15,   0]], dtype=uint8)"
            ]
          },
          "metadata": {
            "tags": []
          },
          "execution_count": 15
        }
      ]
    },
    {
      "cell_type": "code",
      "metadata": {
        "colab": {
          "base_uri": "https://localhost:8080/"
        },
        "id": "2_LrRAdBWNNg",
        "outputId": "ee8a4f5d-c82f-4e37-aa11-a998a6d80b42"
      },
      "source": [
        "type(array(img3))"
      ],
      "execution_count": 16,
      "outputs": [
        {
          "output_type": "execute_result",
          "data": {
            "text/plain": [
              "numpy.ndarray"
            ]
          },
          "metadata": {
            "tags": []
          },
          "execution_count": 16
        }
      ]
    },
    {
      "cell_type": "code",
      "metadata": {
        "colab": {
          "base_uri": "https://localhost:8080/"
        },
        "id": "92QYVBKuWVOC",
        "outputId": "035d60ee-1df7-4b1a-9051-24bd159dbc69"
      },
      "source": [
        "np.ndim(array(img3))"
      ],
      "execution_count": 17,
      "outputs": [
        {
          "output_type": "execute_result",
          "data": {
            "text/plain": [
              "2"
            ]
          },
          "metadata": {
            "tags": []
          },
          "execution_count": 17
        }
      ]
    },
    {
      "cell_type": "markdown",
      "metadata": {
        "id": "kKVnzELS_z5R"
      },
      "source": [
        "#### Image under the hood in a computer.\n",
        "    - Represting the image in a PyTorch tensor in the form of rows & cols"
      ]
    },
    {
      "cell_type": "code",
      "metadata": {
        "colab": {
          "base_uri": "https://localhost:8080/"
        },
        "id": "hMU3B-mc_-Rv",
        "outputId": "54ad83ee-0c58-4851-ca0d-73e7c5aa5baa"
      },
      "source": [
        "tensor(img3)[4:10, 4:10]"
      ],
      "execution_count": 18,
      "outputs": [
        {
          "output_type": "execute_result",
          "data": {
            "text/plain": [
              "tensor([[  0,   0,   0,   0,   0,   0],\n",
              "        [  0,   0,   0,   0,   0,  29],\n",
              "        [  0,   0,   0,  48, 166, 224],\n",
              "        [  0,  93, 244, 249, 253, 187],\n",
              "        [  0, 107, 253, 253, 230,  48],\n",
              "        [  0,   3,  20,  20,  15,   0]], dtype=torch.uint8)"
            ]
          },
          "metadata": {
            "tags": []
          },
          "execution_count": 18
        }
      ]
    },
    {
      "cell_type": "code",
      "metadata": {
        "colab": {
          "base_uri": "https://localhost:8080/"
        },
        "id": "Jfn6P-U9WdAb",
        "outputId": "d9272dd0-dbd0-4e04-863f-ae3bc3f6ee12"
      },
      "source": [
        "type(tensor(img3))"
      ],
      "execution_count": 19,
      "outputs": [
        {
          "output_type": "execute_result",
          "data": {
            "text/plain": [
              "torch.Tensor"
            ]
          },
          "metadata": {
            "tags": []
          },
          "execution_count": 19
        }
      ]
    },
    {
      "cell_type": "code",
      "metadata": {
        "colab": {
          "base_uri": "https://localhost:8080/"
        },
        "id": "1Dm-3ivRWhJA",
        "outputId": "fe64daab-7897-4310-d53f-f71b20507c70"
      },
      "source": [
        "tensor(img3).ndim"
      ],
      "execution_count": 20,
      "outputs": [
        {
          "output_type": "execute_result",
          "data": {
            "text/plain": [
              "2"
            ]
          },
          "metadata": {
            "tags": []
          },
          "execution_count": 20
        }
      ]
    },
    {
      "cell_type": "markdown",
      "metadata": {
        "id": "8Njv94JMB3BQ"
      },
      "source": [
        "### Importing Pandas lib"
      ]
    },
    {
      "cell_type": "markdown",
      "metadata": {
        "id": "1VVX5bSxBNft"
      },
      "source": [
        "### Check the array output using some cool functions from Pandas & color coding it check the results."
      ]
    },
    {
      "cell_type": "code",
      "metadata": {
        "colab": {
          "base_uri": "https://localhost:8080/",
          "height": 271
        },
        "id": "O4RWQJoSBaAY",
        "outputId": "dbd0f08e-e2d8-4d01-e7bd-f1bd26011432"
      },
      "source": [
        "img3_t = tensor(img3)\n",
        "df = pd.DataFrame(img3_t[4:15,4:22])\n",
        "df.style.set_properties(**{'font-size':'6pt'}).background_gradient('Greys')"
      ],
      "execution_count": 21,
      "outputs": [
        {
          "output_type": "execute_result",
          "data": {
            "text/html": [
              "<style  type=\"text/css\" >\n",
              "#T_26d3f9c4_def8_11eb_ae0a_0242ac1c0002row0_col0,#T_26d3f9c4_def8_11eb_ae0a_0242ac1c0002row0_col1,#T_26d3f9c4_def8_11eb_ae0a_0242ac1c0002row0_col2,#T_26d3f9c4_def8_11eb_ae0a_0242ac1c0002row0_col3,#T_26d3f9c4_def8_11eb_ae0a_0242ac1c0002row0_col4,#T_26d3f9c4_def8_11eb_ae0a_0242ac1c0002row0_col5,#T_26d3f9c4_def8_11eb_ae0a_0242ac1c0002row0_col6,#T_26d3f9c4_def8_11eb_ae0a_0242ac1c0002row0_col7,#T_26d3f9c4_def8_11eb_ae0a_0242ac1c0002row0_col8,#T_26d3f9c4_def8_11eb_ae0a_0242ac1c0002row0_col9,#T_26d3f9c4_def8_11eb_ae0a_0242ac1c0002row0_col10,#T_26d3f9c4_def8_11eb_ae0a_0242ac1c0002row0_col11,#T_26d3f9c4_def8_11eb_ae0a_0242ac1c0002row0_col12,#T_26d3f9c4_def8_11eb_ae0a_0242ac1c0002row0_col13,#T_26d3f9c4_def8_11eb_ae0a_0242ac1c0002row0_col14,#T_26d3f9c4_def8_11eb_ae0a_0242ac1c0002row0_col15,#T_26d3f9c4_def8_11eb_ae0a_0242ac1c0002row0_col16,#T_26d3f9c4_def8_11eb_ae0a_0242ac1c0002row0_col17,#T_26d3f9c4_def8_11eb_ae0a_0242ac1c0002row1_col0,#T_26d3f9c4_def8_11eb_ae0a_0242ac1c0002row1_col1,#T_26d3f9c4_def8_11eb_ae0a_0242ac1c0002row1_col2,#T_26d3f9c4_def8_11eb_ae0a_0242ac1c0002row1_col3,#T_26d3f9c4_def8_11eb_ae0a_0242ac1c0002row1_col4,#T_26d3f9c4_def8_11eb_ae0a_0242ac1c0002row1_col15,#T_26d3f9c4_def8_11eb_ae0a_0242ac1c0002row1_col16,#T_26d3f9c4_def8_11eb_ae0a_0242ac1c0002row1_col17,#T_26d3f9c4_def8_11eb_ae0a_0242ac1c0002row2_col0,#T_26d3f9c4_def8_11eb_ae0a_0242ac1c0002row2_col1,#T_26d3f9c4_def8_11eb_ae0a_0242ac1c0002row2_col2,#T_26d3f9c4_def8_11eb_ae0a_0242ac1c0002row2_col15,#T_26d3f9c4_def8_11eb_ae0a_0242ac1c0002row2_col16,#T_26d3f9c4_def8_11eb_ae0a_0242ac1c0002row2_col17,#T_26d3f9c4_def8_11eb_ae0a_0242ac1c0002row3_col0,#T_26d3f9c4_def8_11eb_ae0a_0242ac1c0002row3_col15,#T_26d3f9c4_def8_11eb_ae0a_0242ac1c0002row3_col16,#T_26d3f9c4_def8_11eb_ae0a_0242ac1c0002row3_col17,#T_26d3f9c4_def8_11eb_ae0a_0242ac1c0002row4_col0,#T_26d3f9c4_def8_11eb_ae0a_0242ac1c0002row4_col6,#T_26d3f9c4_def8_11eb_ae0a_0242ac1c0002row4_col7,#T_26d3f9c4_def8_11eb_ae0a_0242ac1c0002row4_col8,#T_26d3f9c4_def8_11eb_ae0a_0242ac1c0002row4_col9,#T_26d3f9c4_def8_11eb_ae0a_0242ac1c0002row4_col10,#T_26d3f9c4_def8_11eb_ae0a_0242ac1c0002row4_col15,#T_26d3f9c4_def8_11eb_ae0a_0242ac1c0002row4_col16,#T_26d3f9c4_def8_11eb_ae0a_0242ac1c0002row4_col17,#T_26d3f9c4_def8_11eb_ae0a_0242ac1c0002row5_col0,#T_26d3f9c4_def8_11eb_ae0a_0242ac1c0002row5_col5,#T_26d3f9c4_def8_11eb_ae0a_0242ac1c0002row5_col6,#T_26d3f9c4_def8_11eb_ae0a_0242ac1c0002row5_col7,#T_26d3f9c4_def8_11eb_ae0a_0242ac1c0002row5_col8,#T_26d3f9c4_def8_11eb_ae0a_0242ac1c0002row5_col9,#T_26d3f9c4_def8_11eb_ae0a_0242ac1c0002row5_col15,#T_26d3f9c4_def8_11eb_ae0a_0242ac1c0002row5_col16,#T_26d3f9c4_def8_11eb_ae0a_0242ac1c0002row5_col17,#T_26d3f9c4_def8_11eb_ae0a_0242ac1c0002row6_col0,#T_26d3f9c4_def8_11eb_ae0a_0242ac1c0002row6_col1,#T_26d3f9c4_def8_11eb_ae0a_0242ac1c0002row6_col2,#T_26d3f9c4_def8_11eb_ae0a_0242ac1c0002row6_col3,#T_26d3f9c4_def8_11eb_ae0a_0242ac1c0002row6_col4,#T_26d3f9c4_def8_11eb_ae0a_0242ac1c0002row6_col5,#T_26d3f9c4_def8_11eb_ae0a_0242ac1c0002row6_col6,#T_26d3f9c4_def8_11eb_ae0a_0242ac1c0002row6_col7,#T_26d3f9c4_def8_11eb_ae0a_0242ac1c0002row6_col8,#T_26d3f9c4_def8_11eb_ae0a_0242ac1c0002row6_col9,#T_26d3f9c4_def8_11eb_ae0a_0242ac1c0002row6_col14,#T_26d3f9c4_def8_11eb_ae0a_0242ac1c0002row6_col15,#T_26d3f9c4_def8_11eb_ae0a_0242ac1c0002row6_col16,#T_26d3f9c4_def8_11eb_ae0a_0242ac1c0002row6_col17,#T_26d3f9c4_def8_11eb_ae0a_0242ac1c0002row7_col0,#T_26d3f9c4_def8_11eb_ae0a_0242ac1c0002row7_col1,#T_26d3f9c4_def8_11eb_ae0a_0242ac1c0002row7_col2,#T_26d3f9c4_def8_11eb_ae0a_0242ac1c0002row7_col3,#T_26d3f9c4_def8_11eb_ae0a_0242ac1c0002row7_col4,#T_26d3f9c4_def8_11eb_ae0a_0242ac1c0002row7_col5,#T_26d3f9c4_def8_11eb_ae0a_0242ac1c0002row7_col6,#T_26d3f9c4_def8_11eb_ae0a_0242ac1c0002row7_col13,#T_26d3f9c4_def8_11eb_ae0a_0242ac1c0002row7_col14,#T_26d3f9c4_def8_11eb_ae0a_0242ac1c0002row7_col15,#T_26d3f9c4_def8_11eb_ae0a_0242ac1c0002row7_col16,#T_26d3f9c4_def8_11eb_ae0a_0242ac1c0002row7_col17,#T_26d3f9c4_def8_11eb_ae0a_0242ac1c0002row8_col0,#T_26d3f9c4_def8_11eb_ae0a_0242ac1c0002row8_col1,#T_26d3f9c4_def8_11eb_ae0a_0242ac1c0002row8_col2,#T_26d3f9c4_def8_11eb_ae0a_0242ac1c0002row8_col3,#T_26d3f9c4_def8_11eb_ae0a_0242ac1c0002row8_col4,#T_26d3f9c4_def8_11eb_ae0a_0242ac1c0002row8_col13,#T_26d3f9c4_def8_11eb_ae0a_0242ac1c0002row8_col14,#T_26d3f9c4_def8_11eb_ae0a_0242ac1c0002row8_col15,#T_26d3f9c4_def8_11eb_ae0a_0242ac1c0002row8_col16,#T_26d3f9c4_def8_11eb_ae0a_0242ac1c0002row8_col17,#T_26d3f9c4_def8_11eb_ae0a_0242ac1c0002row9_col0,#T_26d3f9c4_def8_11eb_ae0a_0242ac1c0002row9_col1,#T_26d3f9c4_def8_11eb_ae0a_0242ac1c0002row9_col2,#T_26d3f9c4_def8_11eb_ae0a_0242ac1c0002row9_col3,#T_26d3f9c4_def8_11eb_ae0a_0242ac1c0002row9_col4,#T_26d3f9c4_def8_11eb_ae0a_0242ac1c0002row9_col16,#T_26d3f9c4_def8_11eb_ae0a_0242ac1c0002row9_col17,#T_26d3f9c4_def8_11eb_ae0a_0242ac1c0002row10_col0,#T_26d3f9c4_def8_11eb_ae0a_0242ac1c0002row10_col1,#T_26d3f9c4_def8_11eb_ae0a_0242ac1c0002row10_col2,#T_26d3f9c4_def8_11eb_ae0a_0242ac1c0002row10_col3,#T_26d3f9c4_def8_11eb_ae0a_0242ac1c0002row10_col4,#T_26d3f9c4_def8_11eb_ae0a_0242ac1c0002row10_col5,#T_26d3f9c4_def8_11eb_ae0a_0242ac1c0002row10_col6,#T_26d3f9c4_def8_11eb_ae0a_0242ac1c0002row10_col17{\n",
              "            font-size:  6pt;\n",
              "            background-color:  #ffffff;\n",
              "            color:  #000000;\n",
              "        }#T_26d3f9c4_def8_11eb_ae0a_0242ac1c0002row1_col5{\n",
              "            font-size:  6pt;\n",
              "            background-color:  #efefef;\n",
              "            color:  #000000;\n",
              "        }#T_26d3f9c4_def8_11eb_ae0a_0242ac1c0002row1_col6,#T_26d3f9c4_def8_11eb_ae0a_0242ac1c0002row1_col13{\n",
              "            font-size:  6pt;\n",
              "            background-color:  #7c7c7c;\n",
              "            color:  #000000;\n",
              "        }#T_26d3f9c4_def8_11eb_ae0a_0242ac1c0002row1_col7{\n",
              "            font-size:  6pt;\n",
              "            background-color:  #4a4a4a;\n",
              "            color:  #f1f1f1;\n",
              "        }#T_26d3f9c4_def8_11eb_ae0a_0242ac1c0002row1_col8,#T_26d3f9c4_def8_11eb_ae0a_0242ac1c0002row1_col9,#T_26d3f9c4_def8_11eb_ae0a_0242ac1c0002row1_col10,#T_26d3f9c4_def8_11eb_ae0a_0242ac1c0002row2_col5,#T_26d3f9c4_def8_11eb_ae0a_0242ac1c0002row2_col6,#T_26d3f9c4_def8_11eb_ae0a_0242ac1c0002row2_col7,#T_26d3f9c4_def8_11eb_ae0a_0242ac1c0002row2_col11,#T_26d3f9c4_def8_11eb_ae0a_0242ac1c0002row2_col12,#T_26d3f9c4_def8_11eb_ae0a_0242ac1c0002row2_col13,#T_26d3f9c4_def8_11eb_ae0a_0242ac1c0002row3_col4,#T_26d3f9c4_def8_11eb_ae0a_0242ac1c0002row3_col12,#T_26d3f9c4_def8_11eb_ae0a_0242ac1c0002row3_col13,#T_26d3f9c4_def8_11eb_ae0a_0242ac1c0002row4_col1,#T_26d3f9c4_def8_11eb_ae0a_0242ac1c0002row4_col2,#T_26d3f9c4_def8_11eb_ae0a_0242ac1c0002row4_col3,#T_26d3f9c4_def8_11eb_ae0a_0242ac1c0002row4_col12,#T_26d3f9c4_def8_11eb_ae0a_0242ac1c0002row4_col13,#T_26d3f9c4_def8_11eb_ae0a_0242ac1c0002row5_col12,#T_26d3f9c4_def8_11eb_ae0a_0242ac1c0002row6_col11,#T_26d3f9c4_def8_11eb_ae0a_0242ac1c0002row9_col11,#T_26d3f9c4_def8_11eb_ae0a_0242ac1c0002row10_col11,#T_26d3f9c4_def8_11eb_ae0a_0242ac1c0002row10_col12,#T_26d3f9c4_def8_11eb_ae0a_0242ac1c0002row10_col13,#T_26d3f9c4_def8_11eb_ae0a_0242ac1c0002row10_col14,#T_26d3f9c4_def8_11eb_ae0a_0242ac1c0002row10_col15,#T_26d3f9c4_def8_11eb_ae0a_0242ac1c0002row10_col16{\n",
              "            font-size:  6pt;\n",
              "            background-color:  #000000;\n",
              "            color:  #f1f1f1;\n",
              "        }#T_26d3f9c4_def8_11eb_ae0a_0242ac1c0002row1_col11{\n",
              "            font-size:  6pt;\n",
              "            background-color:  #606060;\n",
              "            color:  #f1f1f1;\n",
              "        }#T_26d3f9c4_def8_11eb_ae0a_0242ac1c0002row1_col12{\n",
              "            font-size:  6pt;\n",
              "            background-color:  #4d4d4d;\n",
              "            color:  #f1f1f1;\n",
              "        }#T_26d3f9c4_def8_11eb_ae0a_0242ac1c0002row1_col14{\n",
              "            font-size:  6pt;\n",
              "            background-color:  #bbbbbb;\n",
              "            color:  #000000;\n",
              "        }#T_26d3f9c4_def8_11eb_ae0a_0242ac1c0002row2_col3{\n",
              "            font-size:  6pt;\n",
              "            background-color:  #e4e4e4;\n",
              "            color:  #000000;\n",
              "        }#T_26d3f9c4_def8_11eb_ae0a_0242ac1c0002row2_col4,#T_26d3f9c4_def8_11eb_ae0a_0242ac1c0002row8_col6{\n",
              "            font-size:  6pt;\n",
              "            background-color:  #6b6b6b;\n",
              "            color:  #000000;\n",
              "        }#T_26d3f9c4_def8_11eb_ae0a_0242ac1c0002row2_col8,#T_26d3f9c4_def8_11eb_ae0a_0242ac1c0002row2_col14,#T_26d3f9c4_def8_11eb_ae0a_0242ac1c0002row3_col14{\n",
              "            font-size:  6pt;\n",
              "            background-color:  #171717;\n",
              "            color:  #f1f1f1;\n",
              "        }#T_26d3f9c4_def8_11eb_ae0a_0242ac1c0002row2_col9,#T_26d3f9c4_def8_11eb_ae0a_0242ac1c0002row3_col11{\n",
              "            font-size:  6pt;\n",
              "            background-color:  #4b4b4b;\n",
              "            color:  #f1f1f1;\n",
              "        }#T_26d3f9c4_def8_11eb_ae0a_0242ac1c0002row2_col10,#T_26d3f9c4_def8_11eb_ae0a_0242ac1c0002row7_col10,#T_26d3f9c4_def8_11eb_ae0a_0242ac1c0002row8_col8,#T_26d3f9c4_def8_11eb_ae0a_0242ac1c0002row8_col10,#T_26d3f9c4_def8_11eb_ae0a_0242ac1c0002row9_col8,#T_26d3f9c4_def8_11eb_ae0a_0242ac1c0002row9_col10{\n",
              "            font-size:  6pt;\n",
              "            background-color:  #010101;\n",
              "            color:  #f1f1f1;\n",
              "        }#T_26d3f9c4_def8_11eb_ae0a_0242ac1c0002row3_col1{\n",
              "            font-size:  6pt;\n",
              "            background-color:  #272727;\n",
              "            color:  #f1f1f1;\n",
              "        }#T_26d3f9c4_def8_11eb_ae0a_0242ac1c0002row3_col2{\n",
              "            font-size:  6pt;\n",
              "            background-color:  #0a0a0a;\n",
              "            color:  #f1f1f1;\n",
              "        }#T_26d3f9c4_def8_11eb_ae0a_0242ac1c0002row3_col3{\n",
              "            font-size:  6pt;\n",
              "            background-color:  #050505;\n",
              "            color:  #f1f1f1;\n",
              "        }#T_26d3f9c4_def8_11eb_ae0a_0242ac1c0002row3_col5{\n",
              "            font-size:  6pt;\n",
              "            background-color:  #333333;\n",
              "            color:  #f1f1f1;\n",
              "        }#T_26d3f9c4_def8_11eb_ae0a_0242ac1c0002row3_col6{\n",
              "            font-size:  6pt;\n",
              "            background-color:  #e6e6e6;\n",
              "            color:  #000000;\n",
              "        }#T_26d3f9c4_def8_11eb_ae0a_0242ac1c0002row3_col7,#T_26d3f9c4_def8_11eb_ae0a_0242ac1c0002row3_col10{\n",
              "            font-size:  6pt;\n",
              "            background-color:  #fafafa;\n",
              "            color:  #000000;\n",
              "        }#T_26d3f9c4_def8_11eb_ae0a_0242ac1c0002row3_col8{\n",
              "            font-size:  6pt;\n",
              "            background-color:  #fbfbfb;\n",
              "            color:  #000000;\n",
              "        }#T_26d3f9c4_def8_11eb_ae0a_0242ac1c0002row3_col9{\n",
              "            font-size:  6pt;\n",
              "            background-color:  #fdfdfd;\n",
              "            color:  #000000;\n",
              "        }#T_26d3f9c4_def8_11eb_ae0a_0242ac1c0002row4_col4{\n",
              "            font-size:  6pt;\n",
              "            background-color:  #1b1b1b;\n",
              "            color:  #f1f1f1;\n",
              "        }#T_26d3f9c4_def8_11eb_ae0a_0242ac1c0002row4_col5{\n",
              "            font-size:  6pt;\n",
              "            background-color:  #e0e0e0;\n",
              "            color:  #000000;\n",
              "        }#T_26d3f9c4_def8_11eb_ae0a_0242ac1c0002row4_col11{\n",
              "            font-size:  6pt;\n",
              "            background-color:  #4e4e4e;\n",
              "            color:  #f1f1f1;\n",
              "        }#T_26d3f9c4_def8_11eb_ae0a_0242ac1c0002row4_col14{\n",
              "            font-size:  6pt;\n",
              "            background-color:  #767676;\n",
              "            color:  #000000;\n",
              "        }#T_26d3f9c4_def8_11eb_ae0a_0242ac1c0002row5_col1{\n",
              "            font-size:  6pt;\n",
              "            background-color:  #fcfcfc;\n",
              "            color:  #000000;\n",
              "        }#T_26d3f9c4_def8_11eb_ae0a_0242ac1c0002row5_col2,#T_26d3f9c4_def8_11eb_ae0a_0242ac1c0002row5_col3{\n",
              "            font-size:  6pt;\n",
              "            background-color:  #f6f6f6;\n",
              "            color:  #000000;\n",
              "        }#T_26d3f9c4_def8_11eb_ae0a_0242ac1c0002row5_col4,#T_26d3f9c4_def8_11eb_ae0a_0242ac1c0002row7_col7{\n",
              "            font-size:  6pt;\n",
              "            background-color:  #f8f8f8;\n",
              "            color:  #000000;\n",
              "        }#T_26d3f9c4_def8_11eb_ae0a_0242ac1c0002row5_col10,#T_26d3f9c4_def8_11eb_ae0a_0242ac1c0002row10_col7{\n",
              "            font-size:  6pt;\n",
              "            background-color:  #e8e8e8;\n",
              "            color:  #000000;\n",
              "        }#T_26d3f9c4_def8_11eb_ae0a_0242ac1c0002row5_col11{\n",
              "            font-size:  6pt;\n",
              "            background-color:  #222222;\n",
              "            color:  #f1f1f1;\n",
              "        }#T_26d3f9c4_def8_11eb_ae0a_0242ac1c0002row5_col13,#T_26d3f9c4_def8_11eb_ae0a_0242ac1c0002row6_col12{\n",
              "            font-size:  6pt;\n",
              "            background-color:  #090909;\n",
              "            color:  #f1f1f1;\n",
              "        }#T_26d3f9c4_def8_11eb_ae0a_0242ac1c0002row5_col14{\n",
              "            font-size:  6pt;\n",
              "            background-color:  #d0d0d0;\n",
              "            color:  #000000;\n",
              "        }#T_26d3f9c4_def8_11eb_ae0a_0242ac1c0002row6_col10,#T_26d3f9c4_def8_11eb_ae0a_0242ac1c0002row7_col11,#T_26d3f9c4_def8_11eb_ae0a_0242ac1c0002row9_col6{\n",
              "            font-size:  6pt;\n",
              "            background-color:  #060606;\n",
              "            color:  #f1f1f1;\n",
              "        }#T_26d3f9c4_def8_11eb_ae0a_0242ac1c0002row6_col13{\n",
              "            font-size:  6pt;\n",
              "            background-color:  #979797;\n",
              "            color:  #000000;\n",
              "        }#T_26d3f9c4_def8_11eb_ae0a_0242ac1c0002row7_col8{\n",
              "            font-size:  6pt;\n",
              "            background-color:  #b6b6b6;\n",
              "            color:  #000000;\n",
              "        }#T_26d3f9c4_def8_11eb_ae0a_0242ac1c0002row7_col9{\n",
              "            font-size:  6pt;\n",
              "            background-color:  #252525;\n",
              "            color:  #f1f1f1;\n",
              "        }#T_26d3f9c4_def8_11eb_ae0a_0242ac1c0002row7_col12{\n",
              "            font-size:  6pt;\n",
              "            background-color:  #999999;\n",
              "            color:  #000000;\n",
              "        }#T_26d3f9c4_def8_11eb_ae0a_0242ac1c0002row8_col5{\n",
              "            font-size:  6pt;\n",
              "            background-color:  #f9f9f9;\n",
              "            color:  #000000;\n",
              "        }#T_26d3f9c4_def8_11eb_ae0a_0242ac1c0002row8_col7{\n",
              "            font-size:  6pt;\n",
              "            background-color:  #101010;\n",
              "            color:  #f1f1f1;\n",
              "        }#T_26d3f9c4_def8_11eb_ae0a_0242ac1c0002row8_col9,#T_26d3f9c4_def8_11eb_ae0a_0242ac1c0002row9_col9{\n",
              "            font-size:  6pt;\n",
              "            background-color:  #020202;\n",
              "            color:  #f1f1f1;\n",
              "        }#T_26d3f9c4_def8_11eb_ae0a_0242ac1c0002row8_col11{\n",
              "            font-size:  6pt;\n",
              "            background-color:  #545454;\n",
              "            color:  #f1f1f1;\n",
              "        }#T_26d3f9c4_def8_11eb_ae0a_0242ac1c0002row8_col12{\n",
              "            font-size:  6pt;\n",
              "            background-color:  #f1f1f1;\n",
              "            color:  #000000;\n",
              "        }#T_26d3f9c4_def8_11eb_ae0a_0242ac1c0002row9_col5{\n",
              "            font-size:  6pt;\n",
              "            background-color:  #f7f7f7;\n",
              "            color:  #000000;\n",
              "        }#T_26d3f9c4_def8_11eb_ae0a_0242ac1c0002row9_col7{\n",
              "            font-size:  6pt;\n",
              "            background-color:  #030303;\n",
              "            color:  #f1f1f1;\n",
              "        }#T_26d3f9c4_def8_11eb_ae0a_0242ac1c0002row9_col12{\n",
              "            font-size:  6pt;\n",
              "            background-color:  #181818;\n",
              "            color:  #f1f1f1;\n",
              "        }#T_26d3f9c4_def8_11eb_ae0a_0242ac1c0002row9_col13{\n",
              "            font-size:  6pt;\n",
              "            background-color:  #303030;\n",
              "            color:  #f1f1f1;\n",
              "        }#T_26d3f9c4_def8_11eb_ae0a_0242ac1c0002row9_col14{\n",
              "            font-size:  6pt;\n",
              "            background-color:  #a9a9a9;\n",
              "            color:  #000000;\n",
              "        }#T_26d3f9c4_def8_11eb_ae0a_0242ac1c0002row9_col15{\n",
              "            font-size:  6pt;\n",
              "            background-color:  #fefefe;\n",
              "            color:  #000000;\n",
              "        }#T_26d3f9c4_def8_11eb_ae0a_0242ac1c0002row10_col8,#T_26d3f9c4_def8_11eb_ae0a_0242ac1c0002row10_col9{\n",
              "            font-size:  6pt;\n",
              "            background-color:  #bababa;\n",
              "            color:  #000000;\n",
              "        }#T_26d3f9c4_def8_11eb_ae0a_0242ac1c0002row10_col10{\n",
              "            font-size:  6pt;\n",
              "            background-color:  #393939;\n",
              "            color:  #f1f1f1;\n",
              "        }</style><table id=\"T_26d3f9c4_def8_11eb_ae0a_0242ac1c0002\" ><thead>    <tr>        <th class=\"blank level0\" ></th>        <th class=\"col_heading level0 col0\" >0</th>        <th class=\"col_heading level0 col1\" >1</th>        <th class=\"col_heading level0 col2\" >2</th>        <th class=\"col_heading level0 col3\" >3</th>        <th class=\"col_heading level0 col4\" >4</th>        <th class=\"col_heading level0 col5\" >5</th>        <th class=\"col_heading level0 col6\" >6</th>        <th class=\"col_heading level0 col7\" >7</th>        <th class=\"col_heading level0 col8\" >8</th>        <th class=\"col_heading level0 col9\" >9</th>        <th class=\"col_heading level0 col10\" >10</th>        <th class=\"col_heading level0 col11\" >11</th>        <th class=\"col_heading level0 col12\" >12</th>        <th class=\"col_heading level0 col13\" >13</th>        <th class=\"col_heading level0 col14\" >14</th>        <th class=\"col_heading level0 col15\" >15</th>        <th class=\"col_heading level0 col16\" >16</th>        <th class=\"col_heading level0 col17\" >17</th>    </tr></thead><tbody>\n",
              "                <tr>\n",
              "                        <th id=\"T_26d3f9c4_def8_11eb_ae0a_0242ac1c0002level0_row0\" class=\"row_heading level0 row0\" >0</th>\n",
              "                        <td id=\"T_26d3f9c4_def8_11eb_ae0a_0242ac1c0002row0_col0\" class=\"data row0 col0\" >0</td>\n",
              "                        <td id=\"T_26d3f9c4_def8_11eb_ae0a_0242ac1c0002row0_col1\" class=\"data row0 col1\" >0</td>\n",
              "                        <td id=\"T_26d3f9c4_def8_11eb_ae0a_0242ac1c0002row0_col2\" class=\"data row0 col2\" >0</td>\n",
              "                        <td id=\"T_26d3f9c4_def8_11eb_ae0a_0242ac1c0002row0_col3\" class=\"data row0 col3\" >0</td>\n",
              "                        <td id=\"T_26d3f9c4_def8_11eb_ae0a_0242ac1c0002row0_col4\" class=\"data row0 col4\" >0</td>\n",
              "                        <td id=\"T_26d3f9c4_def8_11eb_ae0a_0242ac1c0002row0_col5\" class=\"data row0 col5\" >0</td>\n",
              "                        <td id=\"T_26d3f9c4_def8_11eb_ae0a_0242ac1c0002row0_col6\" class=\"data row0 col6\" >0</td>\n",
              "                        <td id=\"T_26d3f9c4_def8_11eb_ae0a_0242ac1c0002row0_col7\" class=\"data row0 col7\" >0</td>\n",
              "                        <td id=\"T_26d3f9c4_def8_11eb_ae0a_0242ac1c0002row0_col8\" class=\"data row0 col8\" >0</td>\n",
              "                        <td id=\"T_26d3f9c4_def8_11eb_ae0a_0242ac1c0002row0_col9\" class=\"data row0 col9\" >0</td>\n",
              "                        <td id=\"T_26d3f9c4_def8_11eb_ae0a_0242ac1c0002row0_col10\" class=\"data row0 col10\" >0</td>\n",
              "                        <td id=\"T_26d3f9c4_def8_11eb_ae0a_0242ac1c0002row0_col11\" class=\"data row0 col11\" >0</td>\n",
              "                        <td id=\"T_26d3f9c4_def8_11eb_ae0a_0242ac1c0002row0_col12\" class=\"data row0 col12\" >0</td>\n",
              "                        <td id=\"T_26d3f9c4_def8_11eb_ae0a_0242ac1c0002row0_col13\" class=\"data row0 col13\" >0</td>\n",
              "                        <td id=\"T_26d3f9c4_def8_11eb_ae0a_0242ac1c0002row0_col14\" class=\"data row0 col14\" >0</td>\n",
              "                        <td id=\"T_26d3f9c4_def8_11eb_ae0a_0242ac1c0002row0_col15\" class=\"data row0 col15\" >0</td>\n",
              "                        <td id=\"T_26d3f9c4_def8_11eb_ae0a_0242ac1c0002row0_col16\" class=\"data row0 col16\" >0</td>\n",
              "                        <td id=\"T_26d3f9c4_def8_11eb_ae0a_0242ac1c0002row0_col17\" class=\"data row0 col17\" >0</td>\n",
              "            </tr>\n",
              "            <tr>\n",
              "                        <th id=\"T_26d3f9c4_def8_11eb_ae0a_0242ac1c0002level0_row1\" class=\"row_heading level0 row1\" >1</th>\n",
              "                        <td id=\"T_26d3f9c4_def8_11eb_ae0a_0242ac1c0002row1_col0\" class=\"data row1 col0\" >0</td>\n",
              "                        <td id=\"T_26d3f9c4_def8_11eb_ae0a_0242ac1c0002row1_col1\" class=\"data row1 col1\" >0</td>\n",
              "                        <td id=\"T_26d3f9c4_def8_11eb_ae0a_0242ac1c0002row1_col2\" class=\"data row1 col2\" >0</td>\n",
              "                        <td id=\"T_26d3f9c4_def8_11eb_ae0a_0242ac1c0002row1_col3\" class=\"data row1 col3\" >0</td>\n",
              "                        <td id=\"T_26d3f9c4_def8_11eb_ae0a_0242ac1c0002row1_col4\" class=\"data row1 col4\" >0</td>\n",
              "                        <td id=\"T_26d3f9c4_def8_11eb_ae0a_0242ac1c0002row1_col5\" class=\"data row1 col5\" >29</td>\n",
              "                        <td id=\"T_26d3f9c4_def8_11eb_ae0a_0242ac1c0002row1_col6\" class=\"data row1 col6\" >150</td>\n",
              "                        <td id=\"T_26d3f9c4_def8_11eb_ae0a_0242ac1c0002row1_col7\" class=\"data row1 col7\" >195</td>\n",
              "                        <td id=\"T_26d3f9c4_def8_11eb_ae0a_0242ac1c0002row1_col8\" class=\"data row1 col8\" >254</td>\n",
              "                        <td id=\"T_26d3f9c4_def8_11eb_ae0a_0242ac1c0002row1_col9\" class=\"data row1 col9\" >255</td>\n",
              "                        <td id=\"T_26d3f9c4_def8_11eb_ae0a_0242ac1c0002row1_col10\" class=\"data row1 col10\" >254</td>\n",
              "                        <td id=\"T_26d3f9c4_def8_11eb_ae0a_0242ac1c0002row1_col11\" class=\"data row1 col11\" >176</td>\n",
              "                        <td id=\"T_26d3f9c4_def8_11eb_ae0a_0242ac1c0002row1_col12\" class=\"data row1 col12\" >193</td>\n",
              "                        <td id=\"T_26d3f9c4_def8_11eb_ae0a_0242ac1c0002row1_col13\" class=\"data row1 col13\" >150</td>\n",
              "                        <td id=\"T_26d3f9c4_def8_11eb_ae0a_0242ac1c0002row1_col14\" class=\"data row1 col14\" >96</td>\n",
              "                        <td id=\"T_26d3f9c4_def8_11eb_ae0a_0242ac1c0002row1_col15\" class=\"data row1 col15\" >0</td>\n",
              "                        <td id=\"T_26d3f9c4_def8_11eb_ae0a_0242ac1c0002row1_col16\" class=\"data row1 col16\" >0</td>\n",
              "                        <td id=\"T_26d3f9c4_def8_11eb_ae0a_0242ac1c0002row1_col17\" class=\"data row1 col17\" >0</td>\n",
              "            </tr>\n",
              "            <tr>\n",
              "                        <th id=\"T_26d3f9c4_def8_11eb_ae0a_0242ac1c0002level0_row2\" class=\"row_heading level0 row2\" >2</th>\n",
              "                        <td id=\"T_26d3f9c4_def8_11eb_ae0a_0242ac1c0002row2_col0\" class=\"data row2 col0\" >0</td>\n",
              "                        <td id=\"T_26d3f9c4_def8_11eb_ae0a_0242ac1c0002row2_col1\" class=\"data row2 col1\" >0</td>\n",
              "                        <td id=\"T_26d3f9c4_def8_11eb_ae0a_0242ac1c0002row2_col2\" class=\"data row2 col2\" >0</td>\n",
              "                        <td id=\"T_26d3f9c4_def8_11eb_ae0a_0242ac1c0002row2_col3\" class=\"data row2 col3\" >48</td>\n",
              "                        <td id=\"T_26d3f9c4_def8_11eb_ae0a_0242ac1c0002row2_col4\" class=\"data row2 col4\" >166</td>\n",
              "                        <td id=\"T_26d3f9c4_def8_11eb_ae0a_0242ac1c0002row2_col5\" class=\"data row2 col5\" >224</td>\n",
              "                        <td id=\"T_26d3f9c4_def8_11eb_ae0a_0242ac1c0002row2_col6\" class=\"data row2 col6\" >253</td>\n",
              "                        <td id=\"T_26d3f9c4_def8_11eb_ae0a_0242ac1c0002row2_col7\" class=\"data row2 col7\" >253</td>\n",
              "                        <td id=\"T_26d3f9c4_def8_11eb_ae0a_0242ac1c0002row2_col8\" class=\"data row2 col8\" >234</td>\n",
              "                        <td id=\"T_26d3f9c4_def8_11eb_ae0a_0242ac1c0002row2_col9\" class=\"data row2 col9\" >196</td>\n",
              "                        <td id=\"T_26d3f9c4_def8_11eb_ae0a_0242ac1c0002row2_col10\" class=\"data row2 col10\" >253</td>\n",
              "                        <td id=\"T_26d3f9c4_def8_11eb_ae0a_0242ac1c0002row2_col11\" class=\"data row2 col11\" >253</td>\n",
              "                        <td id=\"T_26d3f9c4_def8_11eb_ae0a_0242ac1c0002row2_col12\" class=\"data row2 col12\" >253</td>\n",
              "                        <td id=\"T_26d3f9c4_def8_11eb_ae0a_0242ac1c0002row2_col13\" class=\"data row2 col13\" >253</td>\n",
              "                        <td id=\"T_26d3f9c4_def8_11eb_ae0a_0242ac1c0002row2_col14\" class=\"data row2 col14\" >233</td>\n",
              "                        <td id=\"T_26d3f9c4_def8_11eb_ae0a_0242ac1c0002row2_col15\" class=\"data row2 col15\" >0</td>\n",
              "                        <td id=\"T_26d3f9c4_def8_11eb_ae0a_0242ac1c0002row2_col16\" class=\"data row2 col16\" >0</td>\n",
              "                        <td id=\"T_26d3f9c4_def8_11eb_ae0a_0242ac1c0002row2_col17\" class=\"data row2 col17\" >0</td>\n",
              "            </tr>\n",
              "            <tr>\n",
              "                        <th id=\"T_26d3f9c4_def8_11eb_ae0a_0242ac1c0002level0_row3\" class=\"row_heading level0 row3\" >3</th>\n",
              "                        <td id=\"T_26d3f9c4_def8_11eb_ae0a_0242ac1c0002row3_col0\" class=\"data row3 col0\" >0</td>\n",
              "                        <td id=\"T_26d3f9c4_def8_11eb_ae0a_0242ac1c0002row3_col1\" class=\"data row3 col1\" >93</td>\n",
              "                        <td id=\"T_26d3f9c4_def8_11eb_ae0a_0242ac1c0002row3_col2\" class=\"data row3 col2\" >244</td>\n",
              "                        <td id=\"T_26d3f9c4_def8_11eb_ae0a_0242ac1c0002row3_col3\" class=\"data row3 col3\" >249</td>\n",
              "                        <td id=\"T_26d3f9c4_def8_11eb_ae0a_0242ac1c0002row3_col4\" class=\"data row3 col4\" >253</td>\n",
              "                        <td id=\"T_26d3f9c4_def8_11eb_ae0a_0242ac1c0002row3_col5\" class=\"data row3 col5\" >187</td>\n",
              "                        <td id=\"T_26d3f9c4_def8_11eb_ae0a_0242ac1c0002row3_col6\" class=\"data row3 col6\" >46</td>\n",
              "                        <td id=\"T_26d3f9c4_def8_11eb_ae0a_0242ac1c0002row3_col7\" class=\"data row3 col7\" >10</td>\n",
              "                        <td id=\"T_26d3f9c4_def8_11eb_ae0a_0242ac1c0002row3_col8\" class=\"data row3 col8\" >8</td>\n",
              "                        <td id=\"T_26d3f9c4_def8_11eb_ae0a_0242ac1c0002row3_col9\" class=\"data row3 col9\" >4</td>\n",
              "                        <td id=\"T_26d3f9c4_def8_11eb_ae0a_0242ac1c0002row3_col10\" class=\"data row3 col10\" >10</td>\n",
              "                        <td id=\"T_26d3f9c4_def8_11eb_ae0a_0242ac1c0002row3_col11\" class=\"data row3 col11\" >194</td>\n",
              "                        <td id=\"T_26d3f9c4_def8_11eb_ae0a_0242ac1c0002row3_col12\" class=\"data row3 col12\" >253</td>\n",
              "                        <td id=\"T_26d3f9c4_def8_11eb_ae0a_0242ac1c0002row3_col13\" class=\"data row3 col13\" >253</td>\n",
              "                        <td id=\"T_26d3f9c4_def8_11eb_ae0a_0242ac1c0002row3_col14\" class=\"data row3 col14\" >233</td>\n",
              "                        <td id=\"T_26d3f9c4_def8_11eb_ae0a_0242ac1c0002row3_col15\" class=\"data row3 col15\" >0</td>\n",
              "                        <td id=\"T_26d3f9c4_def8_11eb_ae0a_0242ac1c0002row3_col16\" class=\"data row3 col16\" >0</td>\n",
              "                        <td id=\"T_26d3f9c4_def8_11eb_ae0a_0242ac1c0002row3_col17\" class=\"data row3 col17\" >0</td>\n",
              "            </tr>\n",
              "            <tr>\n",
              "                        <th id=\"T_26d3f9c4_def8_11eb_ae0a_0242ac1c0002level0_row4\" class=\"row_heading level0 row4\" >4</th>\n",
              "                        <td id=\"T_26d3f9c4_def8_11eb_ae0a_0242ac1c0002row4_col0\" class=\"data row4 col0\" >0</td>\n",
              "                        <td id=\"T_26d3f9c4_def8_11eb_ae0a_0242ac1c0002row4_col1\" class=\"data row4 col1\" >107</td>\n",
              "                        <td id=\"T_26d3f9c4_def8_11eb_ae0a_0242ac1c0002row4_col2\" class=\"data row4 col2\" >253</td>\n",
              "                        <td id=\"T_26d3f9c4_def8_11eb_ae0a_0242ac1c0002row4_col3\" class=\"data row4 col3\" >253</td>\n",
              "                        <td id=\"T_26d3f9c4_def8_11eb_ae0a_0242ac1c0002row4_col4\" class=\"data row4 col4\" >230</td>\n",
              "                        <td id=\"T_26d3f9c4_def8_11eb_ae0a_0242ac1c0002row4_col5\" class=\"data row4 col5\" >48</td>\n",
              "                        <td id=\"T_26d3f9c4_def8_11eb_ae0a_0242ac1c0002row4_col6\" class=\"data row4 col6\" >0</td>\n",
              "                        <td id=\"T_26d3f9c4_def8_11eb_ae0a_0242ac1c0002row4_col7\" class=\"data row4 col7\" >0</td>\n",
              "                        <td id=\"T_26d3f9c4_def8_11eb_ae0a_0242ac1c0002row4_col8\" class=\"data row4 col8\" >0</td>\n",
              "                        <td id=\"T_26d3f9c4_def8_11eb_ae0a_0242ac1c0002row4_col9\" class=\"data row4 col9\" >0</td>\n",
              "                        <td id=\"T_26d3f9c4_def8_11eb_ae0a_0242ac1c0002row4_col10\" class=\"data row4 col10\" >0</td>\n",
              "                        <td id=\"T_26d3f9c4_def8_11eb_ae0a_0242ac1c0002row4_col11\" class=\"data row4 col11\" >192</td>\n",
              "                        <td id=\"T_26d3f9c4_def8_11eb_ae0a_0242ac1c0002row4_col12\" class=\"data row4 col12\" >253</td>\n",
              "                        <td id=\"T_26d3f9c4_def8_11eb_ae0a_0242ac1c0002row4_col13\" class=\"data row4 col13\" >253</td>\n",
              "                        <td id=\"T_26d3f9c4_def8_11eb_ae0a_0242ac1c0002row4_col14\" class=\"data row4 col14\" >156</td>\n",
              "                        <td id=\"T_26d3f9c4_def8_11eb_ae0a_0242ac1c0002row4_col15\" class=\"data row4 col15\" >0</td>\n",
              "                        <td id=\"T_26d3f9c4_def8_11eb_ae0a_0242ac1c0002row4_col16\" class=\"data row4 col16\" >0</td>\n",
              "                        <td id=\"T_26d3f9c4_def8_11eb_ae0a_0242ac1c0002row4_col17\" class=\"data row4 col17\" >0</td>\n",
              "            </tr>\n",
              "            <tr>\n",
              "                        <th id=\"T_26d3f9c4_def8_11eb_ae0a_0242ac1c0002level0_row5\" class=\"row_heading level0 row5\" >5</th>\n",
              "                        <td id=\"T_26d3f9c4_def8_11eb_ae0a_0242ac1c0002row5_col0\" class=\"data row5 col0\" >0</td>\n",
              "                        <td id=\"T_26d3f9c4_def8_11eb_ae0a_0242ac1c0002row5_col1\" class=\"data row5 col1\" >3</td>\n",
              "                        <td id=\"T_26d3f9c4_def8_11eb_ae0a_0242ac1c0002row5_col2\" class=\"data row5 col2\" >20</td>\n",
              "                        <td id=\"T_26d3f9c4_def8_11eb_ae0a_0242ac1c0002row5_col3\" class=\"data row5 col3\" >20</td>\n",
              "                        <td id=\"T_26d3f9c4_def8_11eb_ae0a_0242ac1c0002row5_col4\" class=\"data row5 col4\" >15</td>\n",
              "                        <td id=\"T_26d3f9c4_def8_11eb_ae0a_0242ac1c0002row5_col5\" class=\"data row5 col5\" >0</td>\n",
              "                        <td id=\"T_26d3f9c4_def8_11eb_ae0a_0242ac1c0002row5_col6\" class=\"data row5 col6\" >0</td>\n",
              "                        <td id=\"T_26d3f9c4_def8_11eb_ae0a_0242ac1c0002row5_col7\" class=\"data row5 col7\" >0</td>\n",
              "                        <td id=\"T_26d3f9c4_def8_11eb_ae0a_0242ac1c0002row5_col8\" class=\"data row5 col8\" >0</td>\n",
              "                        <td id=\"T_26d3f9c4_def8_11eb_ae0a_0242ac1c0002row5_col9\" class=\"data row5 col9\" >0</td>\n",
              "                        <td id=\"T_26d3f9c4_def8_11eb_ae0a_0242ac1c0002row5_col10\" class=\"data row5 col10\" >43</td>\n",
              "                        <td id=\"T_26d3f9c4_def8_11eb_ae0a_0242ac1c0002row5_col11\" class=\"data row5 col11\" >224</td>\n",
              "                        <td id=\"T_26d3f9c4_def8_11eb_ae0a_0242ac1c0002row5_col12\" class=\"data row5 col12\" >253</td>\n",
              "                        <td id=\"T_26d3f9c4_def8_11eb_ae0a_0242ac1c0002row5_col13\" class=\"data row5 col13\" >245</td>\n",
              "                        <td id=\"T_26d3f9c4_def8_11eb_ae0a_0242ac1c0002row5_col14\" class=\"data row5 col14\" >74</td>\n",
              "                        <td id=\"T_26d3f9c4_def8_11eb_ae0a_0242ac1c0002row5_col15\" class=\"data row5 col15\" >0</td>\n",
              "                        <td id=\"T_26d3f9c4_def8_11eb_ae0a_0242ac1c0002row5_col16\" class=\"data row5 col16\" >0</td>\n",
              "                        <td id=\"T_26d3f9c4_def8_11eb_ae0a_0242ac1c0002row5_col17\" class=\"data row5 col17\" >0</td>\n",
              "            </tr>\n",
              "            <tr>\n",
              "                        <th id=\"T_26d3f9c4_def8_11eb_ae0a_0242ac1c0002level0_row6\" class=\"row_heading level0 row6\" >6</th>\n",
              "                        <td id=\"T_26d3f9c4_def8_11eb_ae0a_0242ac1c0002row6_col0\" class=\"data row6 col0\" >0</td>\n",
              "                        <td id=\"T_26d3f9c4_def8_11eb_ae0a_0242ac1c0002row6_col1\" class=\"data row6 col1\" >0</td>\n",
              "                        <td id=\"T_26d3f9c4_def8_11eb_ae0a_0242ac1c0002row6_col2\" class=\"data row6 col2\" >0</td>\n",
              "                        <td id=\"T_26d3f9c4_def8_11eb_ae0a_0242ac1c0002row6_col3\" class=\"data row6 col3\" >0</td>\n",
              "                        <td id=\"T_26d3f9c4_def8_11eb_ae0a_0242ac1c0002row6_col4\" class=\"data row6 col4\" >0</td>\n",
              "                        <td id=\"T_26d3f9c4_def8_11eb_ae0a_0242ac1c0002row6_col5\" class=\"data row6 col5\" >0</td>\n",
              "                        <td id=\"T_26d3f9c4_def8_11eb_ae0a_0242ac1c0002row6_col6\" class=\"data row6 col6\" >0</td>\n",
              "                        <td id=\"T_26d3f9c4_def8_11eb_ae0a_0242ac1c0002row6_col7\" class=\"data row6 col7\" >0</td>\n",
              "                        <td id=\"T_26d3f9c4_def8_11eb_ae0a_0242ac1c0002row6_col8\" class=\"data row6 col8\" >0</td>\n",
              "                        <td id=\"T_26d3f9c4_def8_11eb_ae0a_0242ac1c0002row6_col9\" class=\"data row6 col9\" >0</td>\n",
              "                        <td id=\"T_26d3f9c4_def8_11eb_ae0a_0242ac1c0002row6_col10\" class=\"data row6 col10\" >249</td>\n",
              "                        <td id=\"T_26d3f9c4_def8_11eb_ae0a_0242ac1c0002row6_col11\" class=\"data row6 col11\" >253</td>\n",
              "                        <td id=\"T_26d3f9c4_def8_11eb_ae0a_0242ac1c0002row6_col12\" class=\"data row6 col12\" >245</td>\n",
              "                        <td id=\"T_26d3f9c4_def8_11eb_ae0a_0242ac1c0002row6_col13\" class=\"data row6 col13\" >126</td>\n",
              "                        <td id=\"T_26d3f9c4_def8_11eb_ae0a_0242ac1c0002row6_col14\" class=\"data row6 col14\" >0</td>\n",
              "                        <td id=\"T_26d3f9c4_def8_11eb_ae0a_0242ac1c0002row6_col15\" class=\"data row6 col15\" >0</td>\n",
              "                        <td id=\"T_26d3f9c4_def8_11eb_ae0a_0242ac1c0002row6_col16\" class=\"data row6 col16\" >0</td>\n",
              "                        <td id=\"T_26d3f9c4_def8_11eb_ae0a_0242ac1c0002row6_col17\" class=\"data row6 col17\" >0</td>\n",
              "            </tr>\n",
              "            <tr>\n",
              "                        <th id=\"T_26d3f9c4_def8_11eb_ae0a_0242ac1c0002level0_row7\" class=\"row_heading level0 row7\" >7</th>\n",
              "                        <td id=\"T_26d3f9c4_def8_11eb_ae0a_0242ac1c0002row7_col0\" class=\"data row7 col0\" >0</td>\n",
              "                        <td id=\"T_26d3f9c4_def8_11eb_ae0a_0242ac1c0002row7_col1\" class=\"data row7 col1\" >0</td>\n",
              "                        <td id=\"T_26d3f9c4_def8_11eb_ae0a_0242ac1c0002row7_col2\" class=\"data row7 col2\" >0</td>\n",
              "                        <td id=\"T_26d3f9c4_def8_11eb_ae0a_0242ac1c0002row7_col3\" class=\"data row7 col3\" >0</td>\n",
              "                        <td id=\"T_26d3f9c4_def8_11eb_ae0a_0242ac1c0002row7_col4\" class=\"data row7 col4\" >0</td>\n",
              "                        <td id=\"T_26d3f9c4_def8_11eb_ae0a_0242ac1c0002row7_col5\" class=\"data row7 col5\" >0</td>\n",
              "                        <td id=\"T_26d3f9c4_def8_11eb_ae0a_0242ac1c0002row7_col6\" class=\"data row7 col6\" >0</td>\n",
              "                        <td id=\"T_26d3f9c4_def8_11eb_ae0a_0242ac1c0002row7_col7\" class=\"data row7 col7\" >14</td>\n",
              "                        <td id=\"T_26d3f9c4_def8_11eb_ae0a_0242ac1c0002row7_col8\" class=\"data row7 col8\" >101</td>\n",
              "                        <td id=\"T_26d3f9c4_def8_11eb_ae0a_0242ac1c0002row7_col9\" class=\"data row7 col9\" >223</td>\n",
              "                        <td id=\"T_26d3f9c4_def8_11eb_ae0a_0242ac1c0002row7_col10\" class=\"data row7 col10\" >253</td>\n",
              "                        <td id=\"T_26d3f9c4_def8_11eb_ae0a_0242ac1c0002row7_col11\" class=\"data row7 col11\" >248</td>\n",
              "                        <td id=\"T_26d3f9c4_def8_11eb_ae0a_0242ac1c0002row7_col12\" class=\"data row7 col12\" >124</td>\n",
              "                        <td id=\"T_26d3f9c4_def8_11eb_ae0a_0242ac1c0002row7_col13\" class=\"data row7 col13\" >0</td>\n",
              "                        <td id=\"T_26d3f9c4_def8_11eb_ae0a_0242ac1c0002row7_col14\" class=\"data row7 col14\" >0</td>\n",
              "                        <td id=\"T_26d3f9c4_def8_11eb_ae0a_0242ac1c0002row7_col15\" class=\"data row7 col15\" >0</td>\n",
              "                        <td id=\"T_26d3f9c4_def8_11eb_ae0a_0242ac1c0002row7_col16\" class=\"data row7 col16\" >0</td>\n",
              "                        <td id=\"T_26d3f9c4_def8_11eb_ae0a_0242ac1c0002row7_col17\" class=\"data row7 col17\" >0</td>\n",
              "            </tr>\n",
              "            <tr>\n",
              "                        <th id=\"T_26d3f9c4_def8_11eb_ae0a_0242ac1c0002level0_row8\" class=\"row_heading level0 row8\" >8</th>\n",
              "                        <td id=\"T_26d3f9c4_def8_11eb_ae0a_0242ac1c0002row8_col0\" class=\"data row8 col0\" >0</td>\n",
              "                        <td id=\"T_26d3f9c4_def8_11eb_ae0a_0242ac1c0002row8_col1\" class=\"data row8 col1\" >0</td>\n",
              "                        <td id=\"T_26d3f9c4_def8_11eb_ae0a_0242ac1c0002row8_col2\" class=\"data row8 col2\" >0</td>\n",
              "                        <td id=\"T_26d3f9c4_def8_11eb_ae0a_0242ac1c0002row8_col3\" class=\"data row8 col3\" >0</td>\n",
              "                        <td id=\"T_26d3f9c4_def8_11eb_ae0a_0242ac1c0002row8_col4\" class=\"data row8 col4\" >0</td>\n",
              "                        <td id=\"T_26d3f9c4_def8_11eb_ae0a_0242ac1c0002row8_col5\" class=\"data row8 col5\" >11</td>\n",
              "                        <td id=\"T_26d3f9c4_def8_11eb_ae0a_0242ac1c0002row8_col6\" class=\"data row8 col6\" >166</td>\n",
              "                        <td id=\"T_26d3f9c4_def8_11eb_ae0a_0242ac1c0002row8_col7\" class=\"data row8 col7\" >239</td>\n",
              "                        <td id=\"T_26d3f9c4_def8_11eb_ae0a_0242ac1c0002row8_col8\" class=\"data row8 col8\" >253</td>\n",
              "                        <td id=\"T_26d3f9c4_def8_11eb_ae0a_0242ac1c0002row8_col9\" class=\"data row8 col9\" >253</td>\n",
              "                        <td id=\"T_26d3f9c4_def8_11eb_ae0a_0242ac1c0002row8_col10\" class=\"data row8 col10\" >253</td>\n",
              "                        <td id=\"T_26d3f9c4_def8_11eb_ae0a_0242ac1c0002row8_col11\" class=\"data row8 col11\" >187</td>\n",
              "                        <td id=\"T_26d3f9c4_def8_11eb_ae0a_0242ac1c0002row8_col12\" class=\"data row8 col12\" >30</td>\n",
              "                        <td id=\"T_26d3f9c4_def8_11eb_ae0a_0242ac1c0002row8_col13\" class=\"data row8 col13\" >0</td>\n",
              "                        <td id=\"T_26d3f9c4_def8_11eb_ae0a_0242ac1c0002row8_col14\" class=\"data row8 col14\" >0</td>\n",
              "                        <td id=\"T_26d3f9c4_def8_11eb_ae0a_0242ac1c0002row8_col15\" class=\"data row8 col15\" >0</td>\n",
              "                        <td id=\"T_26d3f9c4_def8_11eb_ae0a_0242ac1c0002row8_col16\" class=\"data row8 col16\" >0</td>\n",
              "                        <td id=\"T_26d3f9c4_def8_11eb_ae0a_0242ac1c0002row8_col17\" class=\"data row8 col17\" >0</td>\n",
              "            </tr>\n",
              "            <tr>\n",
              "                        <th id=\"T_26d3f9c4_def8_11eb_ae0a_0242ac1c0002level0_row9\" class=\"row_heading level0 row9\" >9</th>\n",
              "                        <td id=\"T_26d3f9c4_def8_11eb_ae0a_0242ac1c0002row9_col0\" class=\"data row9 col0\" >0</td>\n",
              "                        <td id=\"T_26d3f9c4_def8_11eb_ae0a_0242ac1c0002row9_col1\" class=\"data row9 col1\" >0</td>\n",
              "                        <td id=\"T_26d3f9c4_def8_11eb_ae0a_0242ac1c0002row9_col2\" class=\"data row9 col2\" >0</td>\n",
              "                        <td id=\"T_26d3f9c4_def8_11eb_ae0a_0242ac1c0002row9_col3\" class=\"data row9 col3\" >0</td>\n",
              "                        <td id=\"T_26d3f9c4_def8_11eb_ae0a_0242ac1c0002row9_col4\" class=\"data row9 col4\" >0</td>\n",
              "                        <td id=\"T_26d3f9c4_def8_11eb_ae0a_0242ac1c0002row9_col5\" class=\"data row9 col5\" >16</td>\n",
              "                        <td id=\"T_26d3f9c4_def8_11eb_ae0a_0242ac1c0002row9_col6\" class=\"data row9 col6\" >248</td>\n",
              "                        <td id=\"T_26d3f9c4_def8_11eb_ae0a_0242ac1c0002row9_col7\" class=\"data row9 col7\" >250</td>\n",
              "                        <td id=\"T_26d3f9c4_def8_11eb_ae0a_0242ac1c0002row9_col8\" class=\"data row9 col8\" >253</td>\n",
              "                        <td id=\"T_26d3f9c4_def8_11eb_ae0a_0242ac1c0002row9_col9\" class=\"data row9 col9\" >253</td>\n",
              "                        <td id=\"T_26d3f9c4_def8_11eb_ae0a_0242ac1c0002row9_col10\" class=\"data row9 col10\" >253</td>\n",
              "                        <td id=\"T_26d3f9c4_def8_11eb_ae0a_0242ac1c0002row9_col11\" class=\"data row9 col11\" >253</td>\n",
              "                        <td id=\"T_26d3f9c4_def8_11eb_ae0a_0242ac1c0002row9_col12\" class=\"data row9 col12\" >232</td>\n",
              "                        <td id=\"T_26d3f9c4_def8_11eb_ae0a_0242ac1c0002row9_col13\" class=\"data row9 col13\" >213</td>\n",
              "                        <td id=\"T_26d3f9c4_def8_11eb_ae0a_0242ac1c0002row9_col14\" class=\"data row9 col14\" >111</td>\n",
              "                        <td id=\"T_26d3f9c4_def8_11eb_ae0a_0242ac1c0002row9_col15\" class=\"data row9 col15\" >2</td>\n",
              "                        <td id=\"T_26d3f9c4_def8_11eb_ae0a_0242ac1c0002row9_col16\" class=\"data row9 col16\" >0</td>\n",
              "                        <td id=\"T_26d3f9c4_def8_11eb_ae0a_0242ac1c0002row9_col17\" class=\"data row9 col17\" >0</td>\n",
              "            </tr>\n",
              "            <tr>\n",
              "                        <th id=\"T_26d3f9c4_def8_11eb_ae0a_0242ac1c0002level0_row10\" class=\"row_heading level0 row10\" >10</th>\n",
              "                        <td id=\"T_26d3f9c4_def8_11eb_ae0a_0242ac1c0002row10_col0\" class=\"data row10 col0\" >0</td>\n",
              "                        <td id=\"T_26d3f9c4_def8_11eb_ae0a_0242ac1c0002row10_col1\" class=\"data row10 col1\" >0</td>\n",
              "                        <td id=\"T_26d3f9c4_def8_11eb_ae0a_0242ac1c0002row10_col2\" class=\"data row10 col2\" >0</td>\n",
              "                        <td id=\"T_26d3f9c4_def8_11eb_ae0a_0242ac1c0002row10_col3\" class=\"data row10 col3\" >0</td>\n",
              "                        <td id=\"T_26d3f9c4_def8_11eb_ae0a_0242ac1c0002row10_col4\" class=\"data row10 col4\" >0</td>\n",
              "                        <td id=\"T_26d3f9c4_def8_11eb_ae0a_0242ac1c0002row10_col5\" class=\"data row10 col5\" >0</td>\n",
              "                        <td id=\"T_26d3f9c4_def8_11eb_ae0a_0242ac1c0002row10_col6\" class=\"data row10 col6\" >0</td>\n",
              "                        <td id=\"T_26d3f9c4_def8_11eb_ae0a_0242ac1c0002row10_col7\" class=\"data row10 col7\" >43</td>\n",
              "                        <td id=\"T_26d3f9c4_def8_11eb_ae0a_0242ac1c0002row10_col8\" class=\"data row10 col8\" >98</td>\n",
              "                        <td id=\"T_26d3f9c4_def8_11eb_ae0a_0242ac1c0002row10_col9\" class=\"data row10 col9\" >98</td>\n",
              "                        <td id=\"T_26d3f9c4_def8_11eb_ae0a_0242ac1c0002row10_col10\" class=\"data row10 col10\" >208</td>\n",
              "                        <td id=\"T_26d3f9c4_def8_11eb_ae0a_0242ac1c0002row10_col11\" class=\"data row10 col11\" >253</td>\n",
              "                        <td id=\"T_26d3f9c4_def8_11eb_ae0a_0242ac1c0002row10_col12\" class=\"data row10 col12\" >253</td>\n",
              "                        <td id=\"T_26d3f9c4_def8_11eb_ae0a_0242ac1c0002row10_col13\" class=\"data row10 col13\" >253</td>\n",
              "                        <td id=\"T_26d3f9c4_def8_11eb_ae0a_0242ac1c0002row10_col14\" class=\"data row10 col14\" >253</td>\n",
              "                        <td id=\"T_26d3f9c4_def8_11eb_ae0a_0242ac1c0002row10_col15\" class=\"data row10 col15\" >187</td>\n",
              "                        <td id=\"T_26d3f9c4_def8_11eb_ae0a_0242ac1c0002row10_col16\" class=\"data row10 col16\" >22</td>\n",
              "                        <td id=\"T_26d3f9c4_def8_11eb_ae0a_0242ac1c0002row10_col17\" class=\"data row10 col17\" >0</td>\n",
              "            </tr>\n",
              "    </tbody></table>"
            ],
            "text/plain": [
              "<pandas.io.formats.style.Styler at 0x7f6cce260b50>"
            ]
          },
          "metadata": {
            "tags": []
          },
          "execution_count": 21
        }
      ]
    },
    {
      "cell_type": "markdown",
      "metadata": {
        "id": "D11ZwCsBbPMu"
      },
      "source": [
        "## Simple Baseline approach for classifying the Images"
      ]
    },
    {
      "cell_type": "markdown",
      "metadata": {
        "id": "s7KE6rK4bUYw"
      },
      "source": [
        "### Step1: Calculating average of pixel values for each of our two groups\n",
        "    - To do this we need to stack all the relative images using tensors & simple python lists"
      ]
    },
    {
      "cell_type": "code",
      "metadata": {
        "colab": {
          "base_uri": "https://localhost:8080/"
        },
        "id": "GbqVTdKmblyT",
        "outputId": "288c8746-bb77-4da2-a01d-1d29682ab272"
      },
      "source": [
        "seven_tensors = [tensor(Image.open(o)) for o in sevens]\n",
        "three_tensors = [tensor(Image.open(o)) for o in threes]\n",
        "len(three_tensors),len(seven_tensors)"
      ],
      "execution_count": 22,
      "outputs": [
        {
          "output_type": "execute_result",
          "data": {
            "text/plain": [
              "(6131, 6265)"
            ]
          },
          "metadata": {
            "tags": []
          },
          "execution_count": 22
        }
      ]
    },
    {
      "cell_type": "code",
      "metadata": {
        "colab": {
          "base_uri": "https://localhost:8080/"
        },
        "id": "nr8MB2WjhivQ",
        "outputId": "9c06988a-e5a5-4008-df88-151066641000"
      },
      "source": [
        "type(seven_tensors)"
      ],
      "execution_count": 23,
      "outputs": [
        {
          "output_type": "execute_result",
          "data": {
            "text/plain": [
              "list"
            ]
          },
          "metadata": {
            "tags": []
          },
          "execution_count": 23
        }
      ]
    },
    {
      "cell_type": "markdown",
      "metadata": {
        "id": "VKcEwJnWfxfM"
      },
      "source": [
        "### Check one of the image using fastai show_image function"
      ]
    },
    {
      "cell_type": "code",
      "metadata": {
        "colab": {
          "base_uri": "https://localhost:8080/",
          "height": 102
        },
        "id": "-cC87Of3f6Mn",
        "outputId": "aeeb2854-2a92-4f19-ef60-bd0cf893ae37"
      },
      "source": [
        "show_image(three_tensors[1])"
      ],
      "execution_count": 24,
      "outputs": [
        {
          "output_type": "execute_result",
          "data": {
            "text/plain": [
              "<matplotlib.axes._subplots.AxesSubplot at 0x7f6cce1f90d0>"
            ]
          },
          "metadata": {
            "tags": []
          },
          "execution_count": 24
        },
        {
          "output_type": "display_data",
          "data": {
            "image/png": "[encoded data removed]",
            "text/plain": [
              "<Figure size 72x72 with 1 Axes>"
            ]
          },
          "metadata": {
            "tags": [],
            "needs_background": "light"
          }
        }
      ]
    },
    {
      "cell_type": "markdown",
      "metadata": {
        "id": "RFoO2phmkl7r"
      },
      "source": [
        "### Stacking list of image tensors to create a rank-3 tensor which will allow us take the mean. "
      ]
    },
    {
      "cell_type": "code",
      "metadata": {
        "colab": {
          "base_uri": "https://localhost:8080/"
        },
        "id": "kUOhFtjchrHr",
        "outputId": "063de34f-9a68-4ab3-89b0-4950d9aa6919"
      },
      "source": [
        "stacked_sevens = torch.stack(seven_tensors).float()/255\n",
        "stacked_threes = torch.stack(three_tensors).float()/255\n",
        "stacked_threes.shape"
      ],
      "execution_count": 25,
      "outputs": [
        {
          "output_type": "execute_result",
          "data": {
            "text/plain": [
              "torch.Size([6131, 28, 28])"
            ]
          },
          "metadata": {
            "tags": []
          },
          "execution_count": 25
        }
      ]
    },
    {
      "cell_type": "code",
      "metadata": {
        "colab": {
          "base_uri": "https://localhost:8080/"
        },
        "id": "0zuspfj4hsjB",
        "outputId": "248c6e01-146e-49a4-8851-46f796c2d235"
      },
      "source": [
        "type(stacked_sevens)"
      ],
      "execution_count": 26,
      "outputs": [
        {
          "output_type": "execute_result",
          "data": {
            "text/plain": [
              "torch.Tensor"
            ]
          },
          "metadata": {
            "tags": []
          },
          "execution_count": 26
        }
      ]
    },
    {
      "cell_type": "markdown",
      "metadata": {
        "id": "9yE_O5vAlyq3"
      },
      "source": [
        "### Rank of a tensor"
      ]
    },
    {
      "cell_type": "code",
      "metadata": {
        "colab": {
          "base_uri": "https://localhost:8080/"
        },
        "id": "FflX5OfehxDF",
        "outputId": "7635b633-a6f5-4751-ca50-eaa774627471"
      },
      "source": [
        "stacked_sevens.ndim"
      ],
      "execution_count": 27,
      "outputs": [
        {
          "output_type": "execute_result",
          "data": {
            "text/plain": [
              "3"
            ]
          },
          "metadata": {
            "tags": []
          },
          "execution_count": 27
        }
      ]
    },
    {
      "cell_type": "markdown",
      "metadata": {
        "id": "dlj9D--yl1W7"
      },
      "source": [
        "### Shape of a tensor"
      ]
    },
    {
      "cell_type": "code",
      "metadata": {
        "colab": {
          "base_uri": "https://localhost:8080/"
        },
        "id": "7A7cGqsXk8rq",
        "outputId": "9953edde-c3d9-4bc5-c535-9ee2241e396c"
      },
      "source": [
        "len(stacked_threes.shape)"
      ],
      "execution_count": 28,
      "outputs": [
        {
          "output_type": "execute_result",
          "data": {
            "text/plain": [
              "3"
            ]
          },
          "metadata": {
            "tags": []
          },
          "execution_count": 28
        }
      ]
    },
    {
      "cell_type": "markdown",
      "metadata": {
        "id": "AVoSkCD0mQ_t"
      },
      "source": [
        "### Calculating the mean of the image tensors along dimension-0 of our stacked rank-3 tensor for Image 3\n",
        "    - for every pixel position, this will compute the average of that pixel over all the images."
      ]
    },
    {
      "cell_type": "code",
      "metadata": {
        "colab": {
          "base_uri": "https://localhost:8080/",
          "height": 85
        },
        "id": "BIQrXseYmE3D",
        "outputId": "44d45853-5a69-45ee-9ab6-fa7d2b79db93"
      },
      "source": [
        "mean3 = stacked_threes.mean(0)\n",
        "show_image(mean3);"
      ],
      "execution_count": 29,
      "outputs": [
        {
          "output_type": "display_data",
          "data": {
            "image/png": "[encoded data removed]",
            "text/plain": [
              "<Figure size 72x72 with 1 Axes>"
            ]
          },
          "metadata": {
            "tags": [],
            "needs_background": "light"
          }
        }
      ]
    },
    {
      "cell_type": "markdown",
      "metadata": {
        "id": "5stMde4tmzXl"
      },
      "source": [
        "### The result is a 2-dimensional tensor or a ideal image of 3 in this case."
      ]
    },
    {
      "cell_type": "code",
      "metadata": {
        "colab": {
          "base_uri": "https://localhost:8080/"
        },
        "id": "RdWQGyVhmIk9",
        "outputId": "c415f230-1418-490b-991f-8a3cf21c9a19"
      },
      "source": [
        "mean3.ndim"
      ],
      "execution_count": 30,
      "outputs": [
        {
          "output_type": "execute_result",
          "data": {
            "text/plain": [
              "2"
            ]
          },
          "metadata": {
            "tags": []
          },
          "execution_count": 30
        }
      ]
    },
    {
      "cell_type": "code",
      "metadata": {
        "colab": {
          "base_uri": "https://localhost:8080/"
        },
        "id": "1Edkm2IcmOBQ",
        "outputId": "23a1829b-1bed-4429-a14b-a85e22fcf9a3"
      },
      "source": [
        "type(mean3)"
      ],
      "execution_count": 31,
      "outputs": [
        {
          "output_type": "execute_result",
          "data": {
            "text/plain": [
              "torch.Tensor"
            ]
          },
          "metadata": {
            "tags": []
          },
          "execution_count": 31
        }
      ]
    },
    {
      "cell_type": "markdown",
      "metadata": {
        "id": "lCSsaWOGqZyl"
      },
      "source": [
        "### Calculating the mean of the image tensors along dimension-0 of our stacked rank-3 tensor for Image 7\n",
        "    - for every pixel position, this will compute the average of that pixel over all the images."
      ]
    },
    {
      "cell_type": "code",
      "metadata": {
        "colab": {
          "base_uri": "https://localhost:8080/",
          "height": 85
        },
        "id": "M_3haDFmqZg5",
        "outputId": "2037ff08-8707-4b09-ebe0-1d3d628d20a7"
      },
      "source": [
        "mean7 = stacked_sevens.mean(0)\n",
        "show_image(mean7);"
      ],
      "execution_count": 32,
      "outputs": [
        {
          "output_type": "display_data",
          "data": {
            "image/png": "[encoded data removed]",
            "text/plain": [
              "<Figure size 72x72 with 1 Axes>"
            ]
          },
          "metadata": {
            "tags": [],
            "needs_background": "light"
          }
        }
      ]
    },
    {
      "cell_type": "markdown",
      "metadata": {
        "id": "V8r9yFl0yQnw"
      },
      "source": [
        "### Pick any 3 from the stacked 3's"
      ]
    },
    {
      "cell_type": "code",
      "metadata": {
        "colab": {
          "base_uri": "https://localhost:8080/",
          "height": 102
        },
        "id": "E4IpxrwEyZnO",
        "outputId": "02a919c5-e1b2-4b2d-87cf-1d3a30bf8a30"
      },
      "source": [
        "any_3 = stacked_threes[1]\n",
        "show_image(any_3)"
      ],
      "execution_count": 33,
      "outputs": [
        {
          "output_type": "execute_result",
          "data": {
            "text/plain": [
              "<matplotlib.axes._subplots.AxesSubplot at 0x7f6ccdc3f590>"
            ]
          },
          "metadata": {
            "tags": []
          },
          "execution_count": 33
        },
        {
          "output_type": "display_data",
          "data": {
            "image/png": "[encoded data removed]",
            "text/plain": [
              "<Figure size 72x72 with 1 Axes>"
            ]
          },
          "metadata": {
            "tags": [],
            "needs_background": "light"
          }
        }
      ]
    },
    {
      "cell_type": "markdown",
      "metadata": {
        "id": "1Nnu2sA9uv1T"
      },
      "source": [
        "### Using L1 norm\n",
        "    - To calculate the difference between the image to classify vs the ideal image."
      ]
    },
    {
      "cell_type": "markdown",
      "metadata": {
        "id": "PQ8nxlYYyzA9"
      },
      "source": [
        "#### Computing: L1 norm & L2 norm for a 3 & 7 using ideal 3 just to check the difference.\n",
        "---\n",
        "#### Result: The result would be that the difference of any 7 and a ideal 3 is very far & in case of any 3 it's very close in both L1 & L2."
      ]
    },
    {
      "cell_type": "code",
      "metadata": {
        "colab": {
          "base_uri": "https://localhost:8080/"
        },
        "id": "7X-qyDGSvBTX",
        "outputId": "e7276e44-93e3-45aa-b59c-5580c27fbcf7"
      },
      "source": [
        "dist_3_abs = (any_3 - mean3).abs().mean()\n",
        "dist_3_sqr = ((any_3 - mean3)**2).mean().sqrt()\n",
        "dist_3_abs,dist_3_sqr"
      ],
      "execution_count": 34,
      "outputs": [
        {
          "output_type": "execute_result",
          "data": {
            "text/plain": [
              "(tensor(0.1114), tensor(0.2021))"
            ]
          },
          "metadata": {
            "tags": []
          },
          "execution_count": 34
        }
      ]
    },
    {
      "cell_type": "code",
      "metadata": {
        "colab": {
          "base_uri": "https://localhost:8080/"
        },
        "id": "0fHDZET8y_zJ",
        "outputId": "f10717d4-d578-45c6-f202-9fb7a4d541a7"
      },
      "source": [
        "dist_7_abs = (any_3 - mean7).abs().mean()\n",
        "dist_7_sqr = ((any_3 - mean7)**2).mean().sqrt()\n",
        "dist_7_abs,dist_7_sqr"
      ],
      "execution_count": 35,
      "outputs": [
        {
          "output_type": "execute_result",
          "data": {
            "text/plain": [
              "(tensor(0.1586), tensor(0.3021))"
            ]
          },
          "metadata": {
            "tags": []
          },
          "execution_count": 35
        }
      ]
    },
    {
      "cell_type": "markdown",
      "metadata": {
        "id": "AKscx-Hr09gI"
      },
      "source": [
        "### Checking the loss in the above cases using PyTorch functions.\n",
        "    - The above models are also available directly in PyTorch in torch.nn.functional package\n",
        "    - These models are by default imported in fastai as F as recommended by PyTorch lib."
      ]
    },
    {
      "cell_type": "code",
      "metadata": {
        "colab": {
          "base_uri": "https://localhost:8080/"
        },
        "id": "38FIF6os2B98",
        "outputId": "284088d0-4019-463a-f882-fa19607456e6"
      },
      "source": [
        "F.l1_loss(any_3.float(),mean7), F.mse_loss(any_3,mean7).sqrt()"
      ],
      "execution_count": 36,
      "outputs": [
        {
          "output_type": "execute_result",
          "data": {
            "text/plain": [
              "(tensor(0.1586), tensor(0.3021))"
            ]
          },
          "metadata": {
            "tags": []
          },
          "execution_count": 36
        }
      ]
    },
    {
      "cell_type": "markdown",
      "metadata": {
        "id": "PYvh-wSrA3mc"
      },
      "source": [
        "### Computing the metrics/Using the created model to test the quality of our model with validation set"
      ]
    },
    {
      "cell_type": "markdown",
      "metadata": {
        "id": "ct4525_cBNjf"
      },
      "source": [
        "#### Stacking the images of 3's & 7's from validation set"
      ]
    },
    {
      "cell_type": "code",
      "metadata": {
        "colab": {
          "base_uri": "https://localhost:8080/"
        },
        "id": "_sNp84v-A_Mv",
        "outputId": "34f917fa-f372-4f82-904f-5fc76332538b"
      },
      "source": [
        "valid_3_tens = torch.stack([tensor(Image.open(o)) \n",
        "                            for o in (path/'valid'/'3').ls()])\n",
        "valid_3_tens = valid_3_tens.float()/255\n",
        "valid_3_tens.shape"
      ],
      "execution_count": 37,
      "outputs": [
        {
          "output_type": "execute_result",
          "data": {
            "text/plain": [
              "torch.Size([1010, 28, 28])"
            ]
          },
          "metadata": {
            "tags": []
          },
          "execution_count": 37
        }
      ]
    },
    {
      "cell_type": "code",
      "metadata": {
        "colab": {
          "base_uri": "https://localhost:8080/"
        },
        "id": "R7Oz66BEBZxo",
        "outputId": "e56a248c-642d-4c69-d9a5-c6bf090618ea"
      },
      "source": [
        "valid_7_tens = torch.stack([tensor(Image.open(o)) \n",
        "                            for o in (path/'valid'/'7').ls()])\n",
        "valid_7_tens = valid_7_tens.float()/255\n",
        "valid_7_tens.shape"
      ],
      "execution_count": 38,
      "outputs": [
        {
          "output_type": "execute_result",
          "data": {
            "text/plain": [
              "torch.Size([1028, 28, 28])"
            ]
          },
          "metadata": {
            "tags": []
          },
          "execution_count": 38
        }
      ]
    },
    {
      "cell_type": "markdown",
      "metadata": {
        "id": "hrRJAWWcB5N9"
      },
      "source": [
        "#### function to determine the distance betweeb two tensors"
      ]
    },
    {
      "cell_type": "code",
      "metadata": {
        "id": "axXHGN3fB_Oi"
      },
      "source": [
        "def mnist_distance(a,b): \n",
        "    return (a-b).abs().mean((-1,-2))"
      ],
      "execution_count": 39,
      "outputs": []
    },
    {
      "cell_type": "markdown",
      "metadata": {
        "id": "6SDL1ZeXCG-K"
      },
      "source": [
        "#### Test the function by passing any image of 3 & a ideal 3"
      ]
    },
    {
      "cell_type": "code",
      "metadata": {
        "colab": {
          "base_uri": "https://localhost:8080/"
        },
        "id": "EjnCUqPoCNhv",
        "outputId": "73a4610e-58f4-4068-eeab-c5870ee7d127"
      },
      "source": [
        "mnist_distance(any_3, mean3)"
      ],
      "execution_count": 40,
      "outputs": [
        {
          "output_type": "execute_result",
          "data": {
            "text/plain": [
              "tensor(0.1114)"
            ]
          },
          "metadata": {
            "tags": []
          },
          "execution_count": 40
        }
      ]
    },
    {
      "cell_type": "markdown",
      "metadata": {
        "id": "HbZxAUGnCuyb"
      },
      "source": [
        "#### Compute: Distance to ideal 3 for every image to get overall accuracy.\n",
        "---\n",
        " - Result: Rank-1 tesnor with distance of every single image as a vector."
      ]
    },
    {
      "cell_type": "code",
      "metadata": {
        "colab": {
          "base_uri": "https://localhost:8080/"
        },
        "id": "mr2gtmjmC3AB",
        "outputId": "b4d0dd7d-a161-4d19-d69c-636df482adc7"
      },
      "source": [
        "valid_3_dist = mnist_distance(valid_3_tens, mean3)\n",
        "valid_3_dist, valid_3_dist.shape"
      ],
      "execution_count": 41,
      "outputs": [
        {
          "output_type": "execute_result",
          "data": {
            "text/plain": [
              "(tensor([0.1463, 0.1076, 0.1296,  ..., 0.1776, 0.1209, 0.1531]),\n",
              " torch.Size([1010]))"
            ]
          },
          "metadata": {
            "tags": []
          },
          "execution_count": 41
        }
      ]
    },
    {
      "cell_type": "markdown",
      "metadata": {
        "id": "x5HULYDGETIt"
      },
      "source": [
        "#### Checking the shape stacked 3's in validation set \n",
        "---\n",
        " - Result: Mean3 value is bradcasted & subtarcted from each tensor in the valid_3_tens"
      ]
    },
    {
      "cell_type": "code",
      "metadata": {
        "colab": {
          "base_uri": "https://localhost:8080/"
        },
        "id": "fe-1hq7SEgia",
        "outputId": "d315beb9-83c2-4f44-b20d-3607e13d5ad4"
      },
      "source": [
        "(valid_3_tens-mean3).shape"
      ],
      "execution_count": 42,
      "outputs": [
        {
          "output_type": "execute_result",
          "data": {
            "text/plain": [
              "torch.Size([1010, 28, 28])"
            ]
          },
          "metadata": {
            "tags": []
          },
          "execution_count": 42
        }
      ]
    },
    {
      "cell_type": "markdown",
      "metadata": {
        "id": "ruCS99HaGLXj"
      },
      "source": [
        "#### function to determine whether given image is 3 or not."
      ]
    },
    {
      "cell_type": "code",
      "metadata": {
        "id": "QdzcuNywGZ1b"
      },
      "source": [
        "def is_3(x): \n",
        "    return mnist_distance(x,mean3) < mnist_distance(x,mean7)"
      ],
      "execution_count": 43,
      "outputs": []
    },
    {
      "cell_type": "markdown",
      "metadata": {
        "id": "sbb2LkfFGgPA"
      },
      "source": [
        "#### Test the function with a sample 3 image"
      ]
    },
    {
      "cell_type": "code",
      "metadata": {
        "colab": {
          "base_uri": "https://localhost:8080/"
        },
        "id": "K5PnRqmqGjND",
        "outputId": "07a7b30a-d27d-4827-c211-b6f63ed11497"
      },
      "source": [
        "is_3(any_3), is_3(any_3).float()"
      ],
      "execution_count": 44,
      "outputs": [
        {
          "output_type": "execute_result",
          "data": {
            "text/plain": [
              "(tensor(True), tensor(1.))"
            ]
          },
          "metadata": {
            "tags": []
          },
          "execution_count": 44
        }
      ]
    },
    {
      "cell_type": "markdown",
      "metadata": {
        "id": "B8nIwfTKGxkt"
      },
      "source": [
        "#### Testing the full validation set of 3's using broadcasting technique"
      ]
    },
    {
      "cell_type": "code",
      "metadata": {
        "colab": {
          "base_uri": "https://localhost:8080/"
        },
        "id": "jCFw55cAG8wi",
        "outputId": "c96b459d-c9af-49a7-f75c-50fd23d5d9d7"
      },
      "source": [
        "is_3(valid_3_tens)"
      ],
      "execution_count": 45,
      "outputs": [
        {
          "output_type": "execute_result",
          "data": {
            "text/plain": [
              "tensor([True, True, True,  ..., True, True, True])"
            ]
          },
          "metadata": {
            "tags": []
          },
          "execution_count": 45
        }
      ]
    },
    {
      "cell_type": "markdown",
      "metadata": {
        "id": "hBp_JmXJHUKm"
      },
      "source": [
        "#### Calculate the accuracy for each of the 3s and 7s by taking the average of that function for all 3s and its inverse for all 7s"
      ]
    },
    {
      "cell_type": "code",
      "metadata": {
        "colab": {
          "base_uri": "https://localhost:8080/"
        },
        "id": "YUm2IMCeHWNy",
        "outputId": "96680f6a-6e6c-4f89-d9d1-67cf9655a0ea"
      },
      "source": [
        "accuracy_3s =      is_3(valid_3_tens).float() .mean()\n",
        "accuracy_7s = (1 - is_3(valid_7_tens).float()).mean()\n",
        "\n",
        "accuracy_3s,accuracy_7s,(accuracy_3s+accuracy_7s)/2"
      ],
      "execution_count": 46,
      "outputs": [
        {
          "output_type": "execute_result",
          "data": {
            "text/plain": [
              "(tensor(0.9168), tensor(0.9854), tensor(0.9511))"
            ]
          },
          "metadata": {
            "tags": []
          },
          "execution_count": 46
        }
      ]
    },
    {
      "cell_type": "code",
      "metadata": {
        "colab": {
          "base_uri": "https://localhost:8080/"
        },
        "id": "mppjsSZPHuU1",
        "outputId": "0d370406-78b3-46b3-fbbf-39931255a8ab"
      },
      "source": [
        "print(f'Accuracy of a given image being a 3 is {accuracy_3s}')"
      ],
      "execution_count": 49,
      "outputs": [
        {
          "output_type": "stream",
          "text": [
            "Accuracy of a given image being a 3 is 0.9168316721916199\n"
          ],
          "name": "stdout"
        }
      ]
    },
    {
      "cell_type": "code",
      "metadata": {
        "colab": {
          "base_uri": "https://localhost:8080/"
        },
        "id": "MOwOitg2IPq3",
        "outputId": "6955d595-f756-4ba7-dacd-db0e107278bf"
      },
      "source": [
        "print(f'Accuracy of a given image being a 7 is {accuracy_7s}')"
      ],
      "execution_count": 50,
      "outputs": [
        {
          "output_type": "stream",
          "text": [
            "Accuracy of a given image being a 7 is 0.9854085445404053\n"
          ],
          "name": "stdout"
        }
      ]
    },
    {
      "cell_type": "code",
      "metadata": {
        "colab": {
          "base_uri": "https://localhost:8080/"
        },
        "id": "eBBldUYAIemk",
        "outputId": "19125058-f5a2-4573-beb6-f175e124178d"
      },
      "source": [
        "print(f'The overall accuracy of a given image being either a 3 or 7 is {(accuracy_3s+accuracy_7s)/2}')"
      ],
      "execution_count": 51,
      "outputs": [
        {
          "output_type": "stream",
          "text": [
            "The overall accuracy of a given image being either a 3 or 7 is 0.951120138168335\n"
          ],
          "name": "stdout"
        }
      ]
    }
  ]
}